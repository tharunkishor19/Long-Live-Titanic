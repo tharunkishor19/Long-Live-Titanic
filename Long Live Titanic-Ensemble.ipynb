{
 "cells": [
  {
   "cell_type": "markdown",
   "metadata": {
    "ExecuteTime": {
     "end_time": "2020-03-09T07:02:39.550710Z",
     "start_time": "2020-03-09T07:02:39.545197Z"
    },
    "colab_type": "text",
    "id": "kp1vfNcaVXho"
   },
   "source": [
    "# Results\n"
   ]
  },
  {
   "cell_type": "markdown",
   "metadata": {},
   "source": [
    "After running several models Voting Classifier with top 5 models provides the best results for the dataset and the results are shown below:\n",
    "\n",
    "Best Mean Cross Validation Score is 85.02%\n",
    "\n",
    "Best Parameter is {'voting': 'soft'}\n",
    "\n",
    "Train score is 88.88%\n",
    "\n",
    "Test score is 85.55%"
   ]
  },
  {
   "cell_type": "markdown",
   "metadata": {},
   "source": [
    "## Data Preprocessing"
   ]
  },
  {
   "cell_type": "code",
   "execution_count": 1,
   "metadata": {
    "ExecuteTime": {
     "end_time": "2020-03-09T07:31:07.121601Z",
     "start_time": "2020-03-09T07:31:07.116586Z"
    },
    "colab": {},
    "colab_type": "code",
    "id": "_8lwacu5VXhq"
   },
   "outputs": [],
   "source": [
    "import numpy as np\n",
    "import matplotlib.pyplot as plt\n",
    "import pandas as pd\n",
    "import seaborn as sns\n",
    "%matplotlib inline"
   ]
  },
  {
   "cell_type": "code",
   "execution_count": 2,
   "metadata": {
    "ExecuteTime": {
     "end_time": "2020-03-09T07:31:08.392767Z",
     "start_time": "2020-03-09T07:31:08.370710Z"
    },
    "colab": {
     "base_uri": "https://localhost:8080/",
     "height": 206
    },
    "colab_type": "code",
    "id": "SHk4CQj2VXhy",
    "outputId": "05445941-543d-4011-949f-416c402f8f08"
   },
   "outputs": [
    {
     "data": {
      "text/html": [
       "<div>\n",
       "<style scoped>\n",
       "    .dataframe tbody tr th:only-of-type {\n",
       "        vertical-align: middle;\n",
       "    }\n",
       "\n",
       "    .dataframe tbody tr th {\n",
       "        vertical-align: top;\n",
       "    }\n",
       "\n",
       "    .dataframe thead th {\n",
       "        text-align: right;\n",
       "    }\n",
       "</style>\n",
       "<table border=\"1\" class=\"dataframe\">\n",
       "  <thead>\n",
       "    <tr style=\"text-align: right;\">\n",
       "      <th></th>\n",
       "      <th>PassengerId</th>\n",
       "      <th>Survived</th>\n",
       "      <th>Pclass</th>\n",
       "      <th>Name</th>\n",
       "      <th>Sex</th>\n",
       "      <th>Age</th>\n",
       "      <th>SibSp</th>\n",
       "      <th>Parch</th>\n",
       "      <th>Ticket</th>\n",
       "      <th>Fare</th>\n",
       "      <th>Cabin</th>\n",
       "      <th>Embarked</th>\n",
       "    </tr>\n",
       "  </thead>\n",
       "  <tbody>\n",
       "    <tr>\n",
       "      <th>0</th>\n",
       "      <td>1</td>\n",
       "      <td>0</td>\n",
       "      <td>3</td>\n",
       "      <td>Braund, Mr. Owen Harris</td>\n",
       "      <td>male</td>\n",
       "      <td>22.0</td>\n",
       "      <td>1</td>\n",
       "      <td>0</td>\n",
       "      <td>A/5 21171</td>\n",
       "      <td>7.2500</td>\n",
       "      <td>NaN</td>\n",
       "      <td>S</td>\n",
       "    </tr>\n",
       "    <tr>\n",
       "      <th>1</th>\n",
       "      <td>2</td>\n",
       "      <td>1</td>\n",
       "      <td>1</td>\n",
       "      <td>Cumings, Mrs. John Bradley (Florence Briggs Th...</td>\n",
       "      <td>female</td>\n",
       "      <td>38.0</td>\n",
       "      <td>1</td>\n",
       "      <td>0</td>\n",
       "      <td>PC 17599</td>\n",
       "      <td>71.2833</td>\n",
       "      <td>C85</td>\n",
       "      <td>C</td>\n",
       "    </tr>\n",
       "    <tr>\n",
       "      <th>2</th>\n",
       "      <td>3</td>\n",
       "      <td>1</td>\n",
       "      <td>3</td>\n",
       "      <td>Heikkinen, Miss. Laina</td>\n",
       "      <td>female</td>\n",
       "      <td>26.0</td>\n",
       "      <td>0</td>\n",
       "      <td>0</td>\n",
       "      <td>STON/O2. 3101282</td>\n",
       "      <td>7.9250</td>\n",
       "      <td>NaN</td>\n",
       "      <td>S</td>\n",
       "    </tr>\n",
       "    <tr>\n",
       "      <th>3</th>\n",
       "      <td>4</td>\n",
       "      <td>1</td>\n",
       "      <td>1</td>\n",
       "      <td>Futrelle, Mrs. Jacques Heath (Lily May Peel)</td>\n",
       "      <td>female</td>\n",
       "      <td>35.0</td>\n",
       "      <td>1</td>\n",
       "      <td>0</td>\n",
       "      <td>113803</td>\n",
       "      <td>53.1000</td>\n",
       "      <td>C123</td>\n",
       "      <td>S</td>\n",
       "    </tr>\n",
       "    <tr>\n",
       "      <th>4</th>\n",
       "      <td>5</td>\n",
       "      <td>0</td>\n",
       "      <td>3</td>\n",
       "      <td>Allen, Mr. William Henry</td>\n",
       "      <td>male</td>\n",
       "      <td>35.0</td>\n",
       "      <td>0</td>\n",
       "      <td>0</td>\n",
       "      <td>373450</td>\n",
       "      <td>8.0500</td>\n",
       "      <td>NaN</td>\n",
       "      <td>S</td>\n",
       "    </tr>\n",
       "  </tbody>\n",
       "</table>\n",
       "</div>"
      ],
      "text/plain": [
       "   PassengerId  Survived  Pclass  \\\n",
       "0            1         0       3   \n",
       "1            2         1       1   \n",
       "2            3         1       3   \n",
       "3            4         1       1   \n",
       "4            5         0       3   \n",
       "\n",
       "                                                Name     Sex   Age  SibSp  \\\n",
       "0                            Braund, Mr. Owen Harris    male  22.0      1   \n",
       "1  Cumings, Mrs. John Bradley (Florence Briggs Th...  female  38.0      1   \n",
       "2                             Heikkinen, Miss. Laina  female  26.0      0   \n",
       "3       Futrelle, Mrs. Jacques Heath (Lily May Peel)  female  35.0      1   \n",
       "4                           Allen, Mr. William Henry    male  35.0      0   \n",
       "\n",
       "   Parch            Ticket     Fare Cabin Embarked  \n",
       "0      0         A/5 21171   7.2500   NaN        S  \n",
       "1      0          PC 17599  71.2833   C85        C  \n",
       "2      0  STON/O2. 3101282   7.9250   NaN        S  \n",
       "3      0            113803  53.1000  C123        S  \n",
       "4      0            373450   8.0500   NaN        S  "
      ]
     },
     "execution_count": 2,
     "metadata": {},
     "output_type": "execute_result"
    }
   ],
   "source": [
    "# Load Dataset\n",
    "data = pd.read_csv(\"C:/Users/tharu/OneDrive/Desktop/MS-Sem 2/Applied Machine Learning/Lectures/Module -4/titanic (2).csv\")\n",
    "data.head()"
   ]
  },
  {
   "cell_type": "code",
   "execution_count": 3,
   "metadata": {
    "ExecuteTime": {
     "end_time": "2020-03-09T07:31:10.124902Z",
     "start_time": "2020-03-09T07:31:10.117873Z"
    },
    "colab": {
     "base_uri": "https://localhost:8080/",
     "height": 311
    },
    "colab_type": "code",
    "id": "jf-cuBC3VXh1",
    "outputId": "879ba9e4-cd75-443c-8c5c-a94aef2470d3"
   },
   "outputs": [
    {
     "name": "stdout",
     "output_type": "stream",
     "text": [
      "<class 'pandas.core.frame.DataFrame'>\n",
      "RangeIndex: 891 entries, 0 to 890\n",
      "Data columns (total 12 columns):\n",
      "PassengerId    891 non-null int64\n",
      "Survived       891 non-null int64\n",
      "Pclass         891 non-null int64\n",
      "Name           891 non-null object\n",
      "Sex            891 non-null object\n",
      "Age            714 non-null float64\n",
      "SibSp          891 non-null int64\n",
      "Parch          891 non-null int64\n",
      "Ticket         891 non-null object\n",
      "Fare           891 non-null float64\n",
      "Cabin          204 non-null object\n",
      "Embarked       889 non-null object\n",
      "dtypes: float64(2), int64(5), object(5)\n",
      "memory usage: 83.7+ KB\n"
     ]
    }
   ],
   "source": [
    "data.info()"
   ]
  },
  {
   "cell_type": "code",
   "execution_count": 4,
   "metadata": {
    "ExecuteTime": {
     "end_time": "2020-03-09T07:31:11.639431Z",
     "start_time": "2020-03-09T07:31:11.625391Z"
    },
    "colab": {
     "base_uri": "https://localhost:8080/",
     "height": 206
    },
    "colab_type": "code",
    "id": "22UkexVUVXh5",
    "outputId": "214e1b4d-ae6d-4617-cebf-11fc832951c4"
   },
   "outputs": [
    {
     "data": {
      "text/html": [
       "<div>\n",
       "<style scoped>\n",
       "    .dataframe tbody tr th:only-of-type {\n",
       "        vertical-align: middle;\n",
       "    }\n",
       "\n",
       "    .dataframe tbody tr th {\n",
       "        vertical-align: top;\n",
       "    }\n",
       "\n",
       "    .dataframe thead th {\n",
       "        text-align: right;\n",
       "    }\n",
       "</style>\n",
       "<table border=\"1\" class=\"dataframe\">\n",
       "  <thead>\n",
       "    <tr style=\"text-align: right;\">\n",
       "      <th></th>\n",
       "      <th>PassengerId</th>\n",
       "      <th>Survived</th>\n",
       "      <th>Pclass</th>\n",
       "      <th>Name</th>\n",
       "      <th>Sex</th>\n",
       "      <th>Age</th>\n",
       "      <th>SibSp</th>\n",
       "      <th>Parch</th>\n",
       "      <th>Ticket</th>\n",
       "      <th>Fare</th>\n",
       "      <th>Cabin</th>\n",
       "      <th>Embarked</th>\n",
       "    </tr>\n",
       "  </thead>\n",
       "  <tbody>\n",
       "    <tr>\n",
       "      <th>0</th>\n",
       "      <td>1</td>\n",
       "      <td>0</td>\n",
       "      <td>3</td>\n",
       "      <td>Braund, Mr. Owen Harris</td>\n",
       "      <td>male</td>\n",
       "      <td>22.0</td>\n",
       "      <td>1</td>\n",
       "      <td>0</td>\n",
       "      <td>A/5 21171</td>\n",
       "      <td>7.2500</td>\n",
       "      <td>NaN</td>\n",
       "      <td>S</td>\n",
       "    </tr>\n",
       "    <tr>\n",
       "      <th>1</th>\n",
       "      <td>2</td>\n",
       "      <td>1</td>\n",
       "      <td>1</td>\n",
       "      <td>Cumings, Mrs. John Bradley (Florence Briggs Th...</td>\n",
       "      <td>female</td>\n",
       "      <td>38.0</td>\n",
       "      <td>1</td>\n",
       "      <td>0</td>\n",
       "      <td>PC 17599</td>\n",
       "      <td>71.2833</td>\n",
       "      <td>C85</td>\n",
       "      <td>C</td>\n",
       "    </tr>\n",
       "    <tr>\n",
       "      <th>2</th>\n",
       "      <td>3</td>\n",
       "      <td>1</td>\n",
       "      <td>3</td>\n",
       "      <td>Heikkinen, Miss. Laina</td>\n",
       "      <td>female</td>\n",
       "      <td>26.0</td>\n",
       "      <td>0</td>\n",
       "      <td>0</td>\n",
       "      <td>STON/O2. 3101282</td>\n",
       "      <td>7.9250</td>\n",
       "      <td>NaN</td>\n",
       "      <td>S</td>\n",
       "    </tr>\n",
       "    <tr>\n",
       "      <th>3</th>\n",
       "      <td>4</td>\n",
       "      <td>1</td>\n",
       "      <td>1</td>\n",
       "      <td>Futrelle, Mrs. Jacques Heath (Lily May Peel)</td>\n",
       "      <td>female</td>\n",
       "      <td>35.0</td>\n",
       "      <td>1</td>\n",
       "      <td>0</td>\n",
       "      <td>113803</td>\n",
       "      <td>53.1000</td>\n",
       "      <td>C123</td>\n",
       "      <td>S</td>\n",
       "    </tr>\n",
       "    <tr>\n",
       "      <th>4</th>\n",
       "      <td>5</td>\n",
       "      <td>0</td>\n",
       "      <td>3</td>\n",
       "      <td>Allen, Mr. William Henry</td>\n",
       "      <td>male</td>\n",
       "      <td>35.0</td>\n",
       "      <td>0</td>\n",
       "      <td>0</td>\n",
       "      <td>373450</td>\n",
       "      <td>8.0500</td>\n",
       "      <td>NaN</td>\n",
       "      <td>S</td>\n",
       "    </tr>\n",
       "  </tbody>\n",
       "</table>\n",
       "</div>"
      ],
      "text/plain": [
       "   PassengerId  Survived  Pclass  \\\n",
       "0            1         0       3   \n",
       "1            2         1       1   \n",
       "2            3         1       3   \n",
       "3            4         1       1   \n",
       "4            5         0       3   \n",
       "\n",
       "                                                Name     Sex   Age  SibSp  \\\n",
       "0                            Braund, Mr. Owen Harris    male  22.0      1   \n",
       "1  Cumings, Mrs. John Bradley (Florence Briggs Th...  female  38.0      1   \n",
       "2                             Heikkinen, Miss. Laina  female  26.0      0   \n",
       "3       Futrelle, Mrs. Jacques Heath (Lily May Peel)  female  35.0      1   \n",
       "4                           Allen, Mr. William Henry    male  35.0      0   \n",
       "\n",
       "   Parch            Ticket     Fare Cabin Embarked  \n",
       "0      0         A/5 21171   7.2500   NaN        S  \n",
       "1      0          PC 17599  71.2833   C85        C  \n",
       "2      0  STON/O2. 3101282   7.9250   NaN        S  \n",
       "3      0            113803  53.1000  C123        S  \n",
       "4      0            373450   8.0500   NaN        S  "
      ]
     },
     "execution_count": 4,
     "metadata": {},
     "output_type": "execute_result"
    }
   ],
   "source": [
    "data.head(5)"
   ]
  },
  {
   "cell_type": "code",
   "execution_count": 5,
   "metadata": {
    "ExecuteTime": {
     "end_time": "2020-03-09T07:31:14.669575Z",
     "start_time": "2020-03-09T07:31:14.655034Z"
    },
    "code_folding": [],
    "colab": {
     "base_uri": "https://localhost:8080/",
     "height": 745
    },
    "colab_type": "code",
    "id": "CoN3WBqUVXh9",
    "outputId": "b31d6042-0fd7-4421-978b-12942200e0f7"
   },
   "outputs": [
    {
     "name": "stdout",
     "output_type": "stream",
     "text": [
      "PassengerId [ 1  2  3  4  5  6  7  8  9 10 11 12 13 14 15 16 17 18 19 20] \n",
      "\n",
      "Survived [0 1] \n",
      "\n",
      "Pclass [3 1 2] \n",
      "\n",
      "Name ['Braund, Mr. Owen Harris'\n",
      " 'Cumings, Mrs. John Bradley (Florence Briggs Thayer)'\n",
      " 'Heikkinen, Miss. Laina' 'Futrelle, Mrs. Jacques Heath (Lily May Peel)'\n",
      " 'Allen, Mr. William Henry' 'Moran, Mr. James' 'McCarthy, Mr. Timothy J'\n",
      " 'Palsson, Master. Gosta Leonard'\n",
      " 'Johnson, Mrs. Oscar W (Elisabeth Vilhelmina Berg)'\n",
      " 'Nasser, Mrs. Nicholas (Adele Achem)' 'Sandstrom, Miss. Marguerite Rut'\n",
      " 'Bonnell, Miss. Elizabeth' 'Saundercock, Mr. William Henry'\n",
      " 'Andersson, Mr. Anders Johan' 'Vestrom, Miss. Hulda Amanda Adolfina'\n",
      " 'Hewlett, Mrs. (Mary D Kingcome) ' 'Rice, Master. Eugene'\n",
      " 'Williams, Mr. Charles Eugene'\n",
      " 'Vander Planke, Mrs. Julius (Emelia Maria Vandemoortele)'\n",
      " 'Masselmani, Mrs. Fatima'] \n",
      "\n",
      "Sex ['male' 'female'] \n",
      "\n",
      "Age [22. 38. 26. 35. nan 54.  2. 27. 14.  4. 58. 20. 39. 55. 31. 34. 15. 28.\n",
      "  8. 19.] \n",
      "\n",
      "SibSp [1 0 3 4 2 5 8] \n",
      "\n",
      "Parch [0 1 2 5 3 4 6] \n",
      "\n",
      "Ticket ['A/5 21171' 'PC 17599' 'STON/O2. 3101282' '113803' '373450' '330877'\n",
      " '17463' '349909' '347742' '237736' 'PP 9549' '113783' 'A/5. 2151'\n",
      " '347082' '350406' '248706' '382652' '244373' '345763' '2649'] \n",
      "\n",
      "Fare [ 7.25   71.2833  7.925  53.1     8.05    8.4583 51.8625 21.075  11.1333\n",
      " 30.0708 16.7    26.55   31.275   7.8542 16.     29.125  13.     18.\n",
      "  7.225  26.    ] \n",
      "\n",
      "Cabin [nan 'C85' 'C123' 'E46' 'G6' 'C103' 'D56' 'A6' 'C23 C25 C27' 'B78' 'D33'\n",
      " 'B30' 'C52' 'B28' 'C83' 'F33' 'F G73' 'E31' 'A5' 'D10 D12'] \n",
      "\n",
      "Embarked ['S' 'C' 'Q' nan] \n",
      "\n"
     ]
    }
   ],
   "source": [
    "# let's inspect the variable values\n",
    "\n",
    "for var in data.columns:\n",
    "    print(var, data[var].unique()[0:20], '\\n')"
   ]
  },
  {
   "cell_type": "code",
   "execution_count": 6,
   "metadata": {
    "ExecuteTime": {
     "end_time": "2020-03-09T07:31:16.385338Z",
     "start_time": "2020-03-09T07:31:16.372305Z"
    },
    "colab": {
     "base_uri": "https://localhost:8080/",
     "height": 86
    },
    "colab_type": "code",
    "id": "S1ImVKZfVXiB",
    "outputId": "a9b5333b-93a5-44c3-c19f-15ff30ea28b2"
   },
   "outputs": [
    {
     "name": "stdout",
     "output_type": "stream",
     "text": [
      "There are 3 discrete variables\n",
      "There are 3 continuous variables\n",
      "There are 4 categorical variables\n",
      "There are 1 mixed variables\n"
     ]
    }
   ],
   "source": [
    "# make list of variables  types\n",
    "\n",
    "# numerical: discrete vs continuous\n",
    "discrete = [var for var in data.columns if data[var].dtype!='O' and var!='Survived' and data[var].nunique()<10]\n",
    "continuous = [var for var in data.columns if data[var].dtype!='O' and var!='Survived' and var not in discrete]\n",
    "\n",
    "# mixed\n",
    "mixed = ['Cabin']\n",
    "\n",
    "# categorical\n",
    "categorical = [var for var in data.columns if data[var].dtype=='O' and var not in mixed]\n",
    "\n",
    "print(f'There are {len(discrete)} discrete variables')\n",
    "print(f'There are {len(continuous)} continuous variables')\n",
    "print(f'There are {len(categorical)} categorical variables')\n",
    "print(f'There are {len(mixed)} mixed variables')"
   ]
  },
  {
   "cell_type": "code",
   "execution_count": 7,
   "metadata": {
    "ExecuteTime": {
     "end_time": "2020-03-09T07:31:19.229605Z",
     "start_time": "2020-03-09T07:31:19.220581Z"
    },
    "colab": {
     "base_uri": "https://localhost:8080/",
     "height": 242
    },
    "colab_type": "code",
    "id": "WTT0m5JLVXiF",
    "outputId": "b33de213-5554-4525-e05a-cfb2b557f6f7"
   },
   "outputs": [
    {
     "data": {
      "text/plain": [
       "PassengerId    0.000000\n",
       "Survived       0.000000\n",
       "Pclass         0.000000\n",
       "Name           0.000000\n",
       "Sex            0.000000\n",
       "Age            0.198653\n",
       "SibSp          0.000000\n",
       "Parch          0.000000\n",
       "Ticket         0.000000\n",
       "Fare           0.000000\n",
       "Cabin          0.771044\n",
       "Embarked       0.002245\n",
       "dtype: float64"
      ]
     },
     "execution_count": 7,
     "metadata": {},
     "output_type": "execute_result"
    }
   ],
   "source": [
    "# missing values\n",
    "data.isnull().mean()"
   ]
  },
  {
   "cell_type": "code",
   "execution_count": 8,
   "metadata": {
    "ExecuteTime": {
     "end_time": "2020-03-09T07:31:21.025926Z",
     "start_time": "2020-03-09T07:31:21.013893Z"
    },
    "colab": {
     "base_uri": "https://localhost:8080/",
     "height": 121
    },
    "colab_type": "code",
    "id": "pN6fjJeiVXiI",
    "outputId": "de013fb2-03a4-494d-ce7b-4edbff2f0352"
   },
   "outputs": [
    {
     "data": {
      "text/plain": [
       "Name        891\n",
       "Sex           2\n",
       "Ticket      681\n",
       "Embarked      3\n",
       "Cabin       147\n",
       "dtype: int64"
      ]
     },
     "execution_count": 8,
     "metadata": {},
     "output_type": "execute_result"
    }
   ],
   "source": [
    "# cardinality (number of different categories)\n",
    "\n",
    "data[categorical+mixed].nunique()"
   ]
  },
  {
   "cell_type": "code",
   "execution_count": 9,
   "metadata": {
    "ExecuteTime": {
     "end_time": "2020-03-09T07:31:22.655777Z",
     "start_time": "2020-03-09T07:31:22.628203Z"
    },
    "colab": {
     "base_uri": "https://localhost:8080/",
     "height": 258
    },
    "colab_type": "code",
    "id": "V1T62WJbVXiN",
    "outputId": "c2608398-757c-4615-e7cc-cbe8a7c3ef1c"
   },
   "outputs": [
    {
     "data": {
      "text/html": [
       "<div>\n",
       "<style scoped>\n",
       "    .dataframe tbody tr th:only-of-type {\n",
       "        vertical-align: middle;\n",
       "    }\n",
       "\n",
       "    .dataframe tbody tr th {\n",
       "        vertical-align: top;\n",
       "    }\n",
       "\n",
       "    .dataframe thead th {\n",
       "        text-align: right;\n",
       "    }\n",
       "</style>\n",
       "<table border=\"1\" class=\"dataframe\">\n",
       "  <thead>\n",
       "    <tr style=\"text-align: right;\">\n",
       "      <th></th>\n",
       "      <th>PassengerId</th>\n",
       "      <th>Survived</th>\n",
       "      <th>Pclass</th>\n",
       "      <th>Name</th>\n",
       "      <th>Sex</th>\n",
       "      <th>Age</th>\n",
       "      <th>SibSp</th>\n",
       "      <th>Parch</th>\n",
       "      <th>Ticket</th>\n",
       "      <th>Fare</th>\n",
       "      <th>Cabin</th>\n",
       "      <th>Embarked</th>\n",
       "      <th>Cabin_num</th>\n",
       "      <th>Cabin_cat</th>\n",
       "    </tr>\n",
       "  </thead>\n",
       "  <tbody>\n",
       "    <tr>\n",
       "      <th>0</th>\n",
       "      <td>1</td>\n",
       "      <td>0</td>\n",
       "      <td>3</td>\n",
       "      <td>Braund, Mr. Owen Harris</td>\n",
       "      <td>male</td>\n",
       "      <td>22.0</td>\n",
       "      <td>1</td>\n",
       "      <td>0</td>\n",
       "      <td>A/5 21171</td>\n",
       "      <td>7.2500</td>\n",
       "      <td>NaN</td>\n",
       "      <td>S</td>\n",
       "      <td>NaN</td>\n",
       "      <td>NaN</td>\n",
       "    </tr>\n",
       "    <tr>\n",
       "      <th>1</th>\n",
       "      <td>2</td>\n",
       "      <td>1</td>\n",
       "      <td>1</td>\n",
       "      <td>Cumings, Mrs. John Bradley (Florence Briggs Th...</td>\n",
       "      <td>female</td>\n",
       "      <td>38.0</td>\n",
       "      <td>1</td>\n",
       "      <td>0</td>\n",
       "      <td>PC 17599</td>\n",
       "      <td>71.2833</td>\n",
       "      <td>C85</td>\n",
       "      <td>C</td>\n",
       "      <td>85.0</td>\n",
       "      <td>C</td>\n",
       "    </tr>\n",
       "    <tr>\n",
       "      <th>2</th>\n",
       "      <td>3</td>\n",
       "      <td>1</td>\n",
       "      <td>3</td>\n",
       "      <td>Heikkinen, Miss. Laina</td>\n",
       "      <td>female</td>\n",
       "      <td>26.0</td>\n",
       "      <td>0</td>\n",
       "      <td>0</td>\n",
       "      <td>STON/O2. 3101282</td>\n",
       "      <td>7.9250</td>\n",
       "      <td>NaN</td>\n",
       "      <td>S</td>\n",
       "      <td>NaN</td>\n",
       "      <td>NaN</td>\n",
       "    </tr>\n",
       "    <tr>\n",
       "      <th>3</th>\n",
       "      <td>4</td>\n",
       "      <td>1</td>\n",
       "      <td>1</td>\n",
       "      <td>Futrelle, Mrs. Jacques Heath (Lily May Peel)</td>\n",
       "      <td>female</td>\n",
       "      <td>35.0</td>\n",
       "      <td>1</td>\n",
       "      <td>0</td>\n",
       "      <td>113803</td>\n",
       "      <td>53.1000</td>\n",
       "      <td>C123</td>\n",
       "      <td>S</td>\n",
       "      <td>123.0</td>\n",
       "      <td>C</td>\n",
       "    </tr>\n",
       "    <tr>\n",
       "      <th>4</th>\n",
       "      <td>5</td>\n",
       "      <td>0</td>\n",
       "      <td>3</td>\n",
       "      <td>Allen, Mr. William Henry</td>\n",
       "      <td>male</td>\n",
       "      <td>35.0</td>\n",
       "      <td>0</td>\n",
       "      <td>0</td>\n",
       "      <td>373450</td>\n",
       "      <td>8.0500</td>\n",
       "      <td>NaN</td>\n",
       "      <td>S</td>\n",
       "      <td>NaN</td>\n",
       "      <td>NaN</td>\n",
       "    </tr>\n",
       "  </tbody>\n",
       "</table>\n",
       "</div>"
      ],
      "text/plain": [
       "   PassengerId  Survived  Pclass  \\\n",
       "0            1         0       3   \n",
       "1            2         1       1   \n",
       "2            3         1       3   \n",
       "3            4         1       1   \n",
       "4            5         0       3   \n",
       "\n",
       "                                                Name     Sex   Age  SibSp  \\\n",
       "0                            Braund, Mr. Owen Harris    male  22.0      1   \n",
       "1  Cumings, Mrs. John Bradley (Florence Briggs Th...  female  38.0      1   \n",
       "2                             Heikkinen, Miss. Laina  female  26.0      0   \n",
       "3       Futrelle, Mrs. Jacques Heath (Lily May Peel)  female  35.0      1   \n",
       "4                           Allen, Mr. William Henry    male  35.0      0   \n",
       "\n",
       "   Parch            Ticket     Fare Cabin Embarked  Cabin_num Cabin_cat  \n",
       "0      0         A/5 21171   7.2500   NaN        S        NaN       NaN  \n",
       "1      0          PC 17599  71.2833   C85        C       85.0         C  \n",
       "2      0  STON/O2. 3101282   7.9250   NaN        S        NaN       NaN  \n",
       "3      0            113803  53.1000  C123        S      123.0         C  \n",
       "4      0            373450   8.0500   NaN        S        NaN       NaN  "
      ]
     },
     "execution_count": 9,
     "metadata": {},
     "output_type": "execute_result"
    }
   ],
   "source": [
    "# Cabin- mixed variable\n",
    "# \\d regular expression for digts . \\d+ one or more digits\n",
    "data['Cabin_num'] = data['Cabin'].str.extract('(\\d+)') # captures numerical part\n",
    "data['Cabin_num'] = data['Cabin_num'].astype('float')\n",
    "data['Cabin_cat'] = data['Cabin'].str[0] # captures the first letter\n",
    "\n",
    "# show dataframe\n",
    "data.head()"
   ]
  },
  {
   "cell_type": "code",
   "execution_count": 10,
   "metadata": {
    "ExecuteTime": {
     "end_time": "2020-03-09T07:31:24.271498Z",
     "start_time": "2020-03-09T07:31:24.238908Z"
    },
    "colab": {
     "base_uri": "https://localhost:8080/",
     "height": 258
    },
    "colab_type": "code",
    "id": "s-oS5x6_VXiQ",
    "outputId": "d57acf09-2ace-4f28-a623-1eda1f8c80fb"
   },
   "outputs": [
    {
     "data": {
      "text/html": [
       "<div>\n",
       "<style scoped>\n",
       "    .dataframe tbody tr th:only-of-type {\n",
       "        vertical-align: middle;\n",
       "    }\n",
       "\n",
       "    .dataframe tbody tr th {\n",
       "        vertical-align: top;\n",
       "    }\n",
       "\n",
       "    .dataframe thead th {\n",
       "        text-align: right;\n",
       "    }\n",
       "</style>\n",
       "<table border=\"1\" class=\"dataframe\">\n",
       "  <thead>\n",
       "    <tr style=\"text-align: right;\">\n",
       "      <th></th>\n",
       "      <th>PassengerId</th>\n",
       "      <th>Survived</th>\n",
       "      <th>Pclass</th>\n",
       "      <th>Name</th>\n",
       "      <th>Sex</th>\n",
       "      <th>Age</th>\n",
       "      <th>SibSp</th>\n",
       "      <th>Parch</th>\n",
       "      <th>Ticket</th>\n",
       "      <th>Fare</th>\n",
       "      <th>Cabin</th>\n",
       "      <th>Embarked</th>\n",
       "      <th>Cabin_num</th>\n",
       "      <th>Cabin_cat</th>\n",
       "      <th>Title</th>\n",
       "    </tr>\n",
       "  </thead>\n",
       "  <tbody>\n",
       "    <tr>\n",
       "      <th>0</th>\n",
       "      <td>1</td>\n",
       "      <td>0</td>\n",
       "      <td>3</td>\n",
       "      <td>Braund, Mr. Owen Harris</td>\n",
       "      <td>male</td>\n",
       "      <td>22.0</td>\n",
       "      <td>1</td>\n",
       "      <td>0</td>\n",
       "      <td>A/5 21171</td>\n",
       "      <td>7.2500</td>\n",
       "      <td>NaN</td>\n",
       "      <td>S</td>\n",
       "      <td>NaN</td>\n",
       "      <td>NaN</td>\n",
       "      <td>Mr.</td>\n",
       "    </tr>\n",
       "    <tr>\n",
       "      <th>1</th>\n",
       "      <td>2</td>\n",
       "      <td>1</td>\n",
       "      <td>1</td>\n",
       "      <td>Cumings, Mrs. John Bradley (Florence Briggs Th...</td>\n",
       "      <td>female</td>\n",
       "      <td>38.0</td>\n",
       "      <td>1</td>\n",
       "      <td>0</td>\n",
       "      <td>PC 17599</td>\n",
       "      <td>71.2833</td>\n",
       "      <td>C85</td>\n",
       "      <td>C</td>\n",
       "      <td>85.0</td>\n",
       "      <td>C</td>\n",
       "      <td>Mrs.</td>\n",
       "    </tr>\n",
       "    <tr>\n",
       "      <th>2</th>\n",
       "      <td>3</td>\n",
       "      <td>1</td>\n",
       "      <td>3</td>\n",
       "      <td>Heikkinen, Miss. Laina</td>\n",
       "      <td>female</td>\n",
       "      <td>26.0</td>\n",
       "      <td>0</td>\n",
       "      <td>0</td>\n",
       "      <td>STON/O2. 3101282</td>\n",
       "      <td>7.9250</td>\n",
       "      <td>NaN</td>\n",
       "      <td>S</td>\n",
       "      <td>NaN</td>\n",
       "      <td>NaN</td>\n",
       "      <td>Miss.</td>\n",
       "    </tr>\n",
       "    <tr>\n",
       "      <th>3</th>\n",
       "      <td>4</td>\n",
       "      <td>1</td>\n",
       "      <td>1</td>\n",
       "      <td>Futrelle, Mrs. Jacques Heath (Lily May Peel)</td>\n",
       "      <td>female</td>\n",
       "      <td>35.0</td>\n",
       "      <td>1</td>\n",
       "      <td>0</td>\n",
       "      <td>113803</td>\n",
       "      <td>53.1000</td>\n",
       "      <td>C123</td>\n",
       "      <td>S</td>\n",
       "      <td>123.0</td>\n",
       "      <td>C</td>\n",
       "      <td>Mrs.</td>\n",
       "    </tr>\n",
       "    <tr>\n",
       "      <th>4</th>\n",
       "      <td>5</td>\n",
       "      <td>0</td>\n",
       "      <td>3</td>\n",
       "      <td>Allen, Mr. William Henry</td>\n",
       "      <td>male</td>\n",
       "      <td>35.0</td>\n",
       "      <td>0</td>\n",
       "      <td>0</td>\n",
       "      <td>373450</td>\n",
       "      <td>8.0500</td>\n",
       "      <td>NaN</td>\n",
       "      <td>S</td>\n",
       "      <td>NaN</td>\n",
       "      <td>NaN</td>\n",
       "      <td>Mr.</td>\n",
       "    </tr>\n",
       "  </tbody>\n",
       "</table>\n",
       "</div>"
      ],
      "text/plain": [
       "   PassengerId  Survived  Pclass  \\\n",
       "0            1         0       3   \n",
       "1            2         1       1   \n",
       "2            3         1       3   \n",
       "3            4         1       1   \n",
       "4            5         0       3   \n",
       "\n",
       "                                                Name     Sex   Age  SibSp  \\\n",
       "0                            Braund, Mr. Owen Harris    male  22.0      1   \n",
       "1  Cumings, Mrs. John Bradley (Florence Briggs Th...  female  38.0      1   \n",
       "2                             Heikkinen, Miss. Laina  female  26.0      0   \n",
       "3       Futrelle, Mrs. Jacques Heath (Lily May Peel)  female  35.0      1   \n",
       "4                           Allen, Mr. William Henry    male  35.0      0   \n",
       "\n",
       "   Parch            Ticket     Fare Cabin Embarked  Cabin_num Cabin_cat  Title  \n",
       "0      0         A/5 21171   7.2500   NaN        S        NaN       NaN    Mr.  \n",
       "1      0          PC 17599  71.2833   C85        C       85.0         C   Mrs.  \n",
       "2      0  STON/O2. 3101282   7.9250   NaN        S        NaN       NaN  Miss.  \n",
       "3      0            113803  53.1000  C123        S      123.0         C   Mrs.  \n",
       "4      0            373450   8.0500   NaN        S        NaN       NaN    Mr.  "
      ]
     },
     "execution_count": 10,
     "metadata": {},
     "output_type": "execute_result"
    }
   ],
   "source": [
    "data['Title'] = data['Name'].str.split(',').str[1].str.split('\\s+').str[1]\n",
    "data.head()"
   ]
  },
  {
   "cell_type": "code",
   "execution_count": 11,
   "metadata": {
    "ExecuteTime": {
     "end_time": "2020-03-09T07:31:28.967195Z",
     "start_time": "2020-03-09T07:31:28.956166Z"
    },
    "colab": {
     "base_uri": "https://localhost:8080/",
     "height": 329
    },
    "colab_type": "code",
    "id": "uY5Y0lR8VXiT",
    "outputId": "11fc6ab3-813b-4737-94da-54893ca4481d"
   },
   "outputs": [
    {
     "data": {
      "text/plain": [
       "Mr.          517\n",
       "Miss.        182\n",
       "Mrs.         125\n",
       "Master.       40\n",
       "Dr.            7\n",
       "Rev.           6\n",
       "Col.           2\n",
       "Major.         2\n",
       "Mlle.          2\n",
       "Mme.           1\n",
       "Lady.          1\n",
       "Don.           1\n",
       "Capt.          1\n",
       "Sir.           1\n",
       "Jonkheer.      1\n",
       "Ms.            1\n",
       "the            1\n",
       "Name: Title, dtype: int64"
      ]
     },
     "execution_count": 11,
     "metadata": {},
     "output_type": "execute_result"
    }
   ],
   "source": [
    "data['Title'].value_counts()"
   ]
  },
  {
   "cell_type": "code",
   "execution_count": 12,
   "metadata": {
    "ExecuteTime": {
     "end_time": "2020-03-09T07:31:31.253019Z",
     "start_time": "2020-03-09T07:31:31.245000Z"
    },
    "colab": {
     "base_uri": "https://localhost:8080/",
     "height": 173
    },
    "colab_type": "code",
    "id": "83e-wTQkVXiW",
    "outputId": "9d1af5d5-4126-47cf-83a2-354988b0fc8b"
   },
   "outputs": [
    {
     "data": {
      "text/plain": [
       "C    59\n",
       "B    47\n",
       "D    33\n",
       "E    32\n",
       "A    15\n",
       "F    13\n",
       "G     4\n",
       "T     1\n",
       "Name: Cabin_cat, dtype: int64"
      ]
     },
     "execution_count": 12,
     "metadata": {},
     "output_type": "execute_result"
    }
   ],
   "source": [
    "data['Cabin_cat'].value_counts()"
   ]
  },
  {
   "cell_type": "code",
   "execution_count": 13,
   "metadata": {
    "ExecuteTime": {
     "end_time": "2020-03-09T07:31:33.394776Z",
     "start_time": "2020-03-09T07:31:33.373716Z"
    },
    "colab": {
     "base_uri": "https://localhost:8080/",
     "height": 258
    },
    "colab_type": "code",
    "id": "DclvyO3aVXiZ",
    "outputId": "704ec244-226b-453a-94d7-d8a7b3aeabe5"
   },
   "outputs": [
    {
     "data": {
      "text/html": [
       "<div>\n",
       "<style scoped>\n",
       "    .dataframe tbody tr th:only-of-type {\n",
       "        vertical-align: middle;\n",
       "    }\n",
       "\n",
       "    .dataframe tbody tr th {\n",
       "        vertical-align: top;\n",
       "    }\n",
       "\n",
       "    .dataframe thead th {\n",
       "        text-align: right;\n",
       "    }\n",
       "</style>\n",
       "<table border=\"1\" class=\"dataframe\">\n",
       "  <thead>\n",
       "    <tr style=\"text-align: right;\">\n",
       "      <th></th>\n",
       "      <th>PassengerId</th>\n",
       "      <th>Survived</th>\n",
       "      <th>Pclass</th>\n",
       "      <th>Name</th>\n",
       "      <th>Sex</th>\n",
       "      <th>Age</th>\n",
       "      <th>SibSp</th>\n",
       "      <th>Parch</th>\n",
       "      <th>Ticket</th>\n",
       "      <th>Fare</th>\n",
       "      <th>Cabin</th>\n",
       "      <th>Embarked</th>\n",
       "      <th>Cabin_num</th>\n",
       "      <th>Cabin_cat</th>\n",
       "      <th>Title</th>\n",
       "    </tr>\n",
       "  </thead>\n",
       "  <tbody>\n",
       "    <tr>\n",
       "      <th>0</th>\n",
       "      <td>1</td>\n",
       "      <td>0</td>\n",
       "      <td>3</td>\n",
       "      <td>Braund, Mr. Owen Harris</td>\n",
       "      <td>male</td>\n",
       "      <td>22.0</td>\n",
       "      <td>1</td>\n",
       "      <td>0</td>\n",
       "      <td>A/5 21171</td>\n",
       "      <td>7.2500</td>\n",
       "      <td>NaN</td>\n",
       "      <td>S</td>\n",
       "      <td>NaN</td>\n",
       "      <td>NaN</td>\n",
       "      <td>Mr.</td>\n",
       "    </tr>\n",
       "    <tr>\n",
       "      <th>1</th>\n",
       "      <td>2</td>\n",
       "      <td>1</td>\n",
       "      <td>1</td>\n",
       "      <td>Cumings, Mrs. John Bradley (Florence Briggs Th...</td>\n",
       "      <td>female</td>\n",
       "      <td>38.0</td>\n",
       "      <td>1</td>\n",
       "      <td>0</td>\n",
       "      <td>PC 17599</td>\n",
       "      <td>71.2833</td>\n",
       "      <td>C85</td>\n",
       "      <td>C</td>\n",
       "      <td>85.0</td>\n",
       "      <td>C</td>\n",
       "      <td>Mrs.</td>\n",
       "    </tr>\n",
       "    <tr>\n",
       "      <th>2</th>\n",
       "      <td>3</td>\n",
       "      <td>1</td>\n",
       "      <td>3</td>\n",
       "      <td>Heikkinen, Miss. Laina</td>\n",
       "      <td>female</td>\n",
       "      <td>26.0</td>\n",
       "      <td>0</td>\n",
       "      <td>0</td>\n",
       "      <td>STON/O2. 3101282</td>\n",
       "      <td>7.9250</td>\n",
       "      <td>NaN</td>\n",
       "      <td>S</td>\n",
       "      <td>NaN</td>\n",
       "      <td>NaN</td>\n",
       "      <td>Miss.</td>\n",
       "    </tr>\n",
       "    <tr>\n",
       "      <th>3</th>\n",
       "      <td>4</td>\n",
       "      <td>1</td>\n",
       "      <td>1</td>\n",
       "      <td>Futrelle, Mrs. Jacques Heath (Lily May Peel)</td>\n",
       "      <td>female</td>\n",
       "      <td>35.0</td>\n",
       "      <td>1</td>\n",
       "      <td>0</td>\n",
       "      <td>113803</td>\n",
       "      <td>53.1000</td>\n",
       "      <td>C123</td>\n",
       "      <td>S</td>\n",
       "      <td>123.0</td>\n",
       "      <td>C</td>\n",
       "      <td>Mrs.</td>\n",
       "    </tr>\n",
       "    <tr>\n",
       "      <th>4</th>\n",
       "      <td>5</td>\n",
       "      <td>0</td>\n",
       "      <td>3</td>\n",
       "      <td>Allen, Mr. William Henry</td>\n",
       "      <td>male</td>\n",
       "      <td>35.0</td>\n",
       "      <td>0</td>\n",
       "      <td>0</td>\n",
       "      <td>373450</td>\n",
       "      <td>8.0500</td>\n",
       "      <td>NaN</td>\n",
       "      <td>S</td>\n",
       "      <td>NaN</td>\n",
       "      <td>NaN</td>\n",
       "      <td>Mr.</td>\n",
       "    </tr>\n",
       "  </tbody>\n",
       "</table>\n",
       "</div>"
      ],
      "text/plain": [
       "   PassengerId  Survived  Pclass  \\\n",
       "0            1         0       3   \n",
       "1            2         1       1   \n",
       "2            3         1       3   \n",
       "3            4         1       1   \n",
       "4            5         0       3   \n",
       "\n",
       "                                                Name     Sex   Age  SibSp  \\\n",
       "0                            Braund, Mr. Owen Harris    male  22.0      1   \n",
       "1  Cumings, Mrs. John Bradley (Florence Briggs Th...  female  38.0      1   \n",
       "2                             Heikkinen, Miss. Laina  female  26.0      0   \n",
       "3       Futrelle, Mrs. Jacques Heath (Lily May Peel)  female  35.0      1   \n",
       "4                           Allen, Mr. William Henry    male  35.0      0   \n",
       "\n",
       "   Parch            Ticket     Fare Cabin Embarked  Cabin_num Cabin_cat  Title  \n",
       "0      0         A/5 21171   7.2500   NaN        S        NaN       NaN    Mr.  \n",
       "1      0          PC 17599  71.2833   C85        C       85.0         C   Mrs.  \n",
       "2      0  STON/O2. 3101282   7.9250   NaN        S        NaN       NaN  Miss.  \n",
       "3      0            113803  53.1000  C123        S      123.0         C   Mrs.  \n",
       "4      0            373450   8.0500   NaN        S        NaN       NaN    Mr.  "
      ]
     },
     "execution_count": 13,
     "metadata": {},
     "output_type": "execute_result"
    }
   ],
   "source": [
    "# drop original mixed\n",
    "data.head()"
   ]
  },
  {
   "cell_type": "code",
   "execution_count": 14,
   "metadata": {
    "ExecuteTime": {
     "end_time": "2020-03-09T07:31:37.790503Z",
     "start_time": "2020-03-09T07:31:37.782478Z"
    },
    "colab": {},
    "colab_type": "code",
    "id": "RmUxvCdoVXic"
   },
   "outputs": [],
   "source": [
    "data.drop(['PassengerId','Name','Ticket','Cabin'], axis=1,inplace=True)"
   ]
  },
  {
   "cell_type": "code",
   "execution_count": 15,
   "metadata": {
    "ExecuteTime": {
     "end_time": "2020-03-09T07:31:38.924192Z",
     "start_time": "2020-03-09T07:31:38.909150Z"
    },
    "colab": {
     "base_uri": "https://localhost:8080/",
     "height": 206
    },
    "colab_type": "code",
    "id": "RtcrzVvpVXif",
    "outputId": "5b34dcd4-cb9e-4425-a50e-977d2fd220fd"
   },
   "outputs": [
    {
     "data": {
      "text/html": [
       "<div>\n",
       "<style scoped>\n",
       "    .dataframe tbody tr th:only-of-type {\n",
       "        vertical-align: middle;\n",
       "    }\n",
       "\n",
       "    .dataframe tbody tr th {\n",
       "        vertical-align: top;\n",
       "    }\n",
       "\n",
       "    .dataframe thead th {\n",
       "        text-align: right;\n",
       "    }\n",
       "</style>\n",
       "<table border=\"1\" class=\"dataframe\">\n",
       "  <thead>\n",
       "    <tr style=\"text-align: right;\">\n",
       "      <th></th>\n",
       "      <th>Survived</th>\n",
       "      <th>Pclass</th>\n",
       "      <th>Sex</th>\n",
       "      <th>Age</th>\n",
       "      <th>SibSp</th>\n",
       "      <th>Parch</th>\n",
       "      <th>Fare</th>\n",
       "      <th>Embarked</th>\n",
       "      <th>Cabin_num</th>\n",
       "      <th>Cabin_cat</th>\n",
       "      <th>Title</th>\n",
       "    </tr>\n",
       "  </thead>\n",
       "  <tbody>\n",
       "    <tr>\n",
       "      <th>0</th>\n",
       "      <td>0</td>\n",
       "      <td>3</td>\n",
       "      <td>male</td>\n",
       "      <td>22.0</td>\n",
       "      <td>1</td>\n",
       "      <td>0</td>\n",
       "      <td>7.2500</td>\n",
       "      <td>S</td>\n",
       "      <td>NaN</td>\n",
       "      <td>NaN</td>\n",
       "      <td>Mr.</td>\n",
       "    </tr>\n",
       "    <tr>\n",
       "      <th>1</th>\n",
       "      <td>1</td>\n",
       "      <td>1</td>\n",
       "      <td>female</td>\n",
       "      <td>38.0</td>\n",
       "      <td>1</td>\n",
       "      <td>0</td>\n",
       "      <td>71.2833</td>\n",
       "      <td>C</td>\n",
       "      <td>85.0</td>\n",
       "      <td>C</td>\n",
       "      <td>Mrs.</td>\n",
       "    </tr>\n",
       "    <tr>\n",
       "      <th>2</th>\n",
       "      <td>1</td>\n",
       "      <td>3</td>\n",
       "      <td>female</td>\n",
       "      <td>26.0</td>\n",
       "      <td>0</td>\n",
       "      <td>0</td>\n",
       "      <td>7.9250</td>\n",
       "      <td>S</td>\n",
       "      <td>NaN</td>\n",
       "      <td>NaN</td>\n",
       "      <td>Miss.</td>\n",
       "    </tr>\n",
       "    <tr>\n",
       "      <th>3</th>\n",
       "      <td>1</td>\n",
       "      <td>1</td>\n",
       "      <td>female</td>\n",
       "      <td>35.0</td>\n",
       "      <td>1</td>\n",
       "      <td>0</td>\n",
       "      <td>53.1000</td>\n",
       "      <td>S</td>\n",
       "      <td>123.0</td>\n",
       "      <td>C</td>\n",
       "      <td>Mrs.</td>\n",
       "    </tr>\n",
       "    <tr>\n",
       "      <th>4</th>\n",
       "      <td>0</td>\n",
       "      <td>3</td>\n",
       "      <td>male</td>\n",
       "      <td>35.0</td>\n",
       "      <td>0</td>\n",
       "      <td>0</td>\n",
       "      <td>8.0500</td>\n",
       "      <td>S</td>\n",
       "      <td>NaN</td>\n",
       "      <td>NaN</td>\n",
       "      <td>Mr.</td>\n",
       "    </tr>\n",
       "  </tbody>\n",
       "</table>\n",
       "</div>"
      ],
      "text/plain": [
       "   Survived  Pclass     Sex   Age  SibSp  Parch     Fare Embarked  Cabin_num  \\\n",
       "0         0       3    male  22.0      1      0   7.2500        S        NaN   \n",
       "1         1       1  female  38.0      1      0  71.2833        C       85.0   \n",
       "2         1       3  female  26.0      0      0   7.9250        S        NaN   \n",
       "3         1       1  female  35.0      1      0  53.1000        S      123.0   \n",
       "4         0       3    male  35.0      0      0   8.0500        S        NaN   \n",
       "\n",
       "  Cabin_cat  Title  \n",
       "0       NaN    Mr.  \n",
       "1         C   Mrs.  \n",
       "2       NaN  Miss.  \n",
       "3         C   Mrs.  \n",
       "4       NaN    Mr.  "
      ]
     },
     "execution_count": 15,
     "metadata": {},
     "output_type": "execute_result"
    }
   ],
   "source": [
    "data.head()"
   ]
  },
  {
   "cell_type": "code",
   "execution_count": 16,
   "metadata": {
    "ExecuteTime": {
     "end_time": "2020-03-09T07:31:41.011048Z",
     "start_time": "2020-03-09T07:31:40.972941Z"
    },
    "colab": {
     "base_uri": "https://localhost:8080/",
     "height": 300
    },
    "colab_type": "code",
    "id": "qCeRuXfGVXih",
    "outputId": "0a5965e2-153b-4c11-cdc2-dcf0b714bf1e"
   },
   "outputs": [
    {
     "data": {
      "text/html": [
       "<div>\n",
       "<style scoped>\n",
       "    .dataframe tbody tr th:only-of-type {\n",
       "        vertical-align: middle;\n",
       "    }\n",
       "\n",
       "    .dataframe tbody tr th {\n",
       "        vertical-align: top;\n",
       "    }\n",
       "\n",
       "    .dataframe thead th {\n",
       "        text-align: right;\n",
       "    }\n",
       "</style>\n",
       "<table border=\"1\" class=\"dataframe\">\n",
       "  <thead>\n",
       "    <tr style=\"text-align: right;\">\n",
       "      <th></th>\n",
       "      <th>Survived</th>\n",
       "      <th>Pclass</th>\n",
       "      <th>Age</th>\n",
       "      <th>SibSp</th>\n",
       "      <th>Parch</th>\n",
       "      <th>Fare</th>\n",
       "      <th>Cabin_num</th>\n",
       "    </tr>\n",
       "  </thead>\n",
       "  <tbody>\n",
       "    <tr>\n",
       "      <th>count</th>\n",
       "      <td>891.000000</td>\n",
       "      <td>891.000000</td>\n",
       "      <td>714.000000</td>\n",
       "      <td>891.000000</td>\n",
       "      <td>891.000000</td>\n",
       "      <td>891.000000</td>\n",
       "      <td>200.00000</td>\n",
       "    </tr>\n",
       "    <tr>\n",
       "      <th>mean</th>\n",
       "      <td>0.383838</td>\n",
       "      <td>2.308642</td>\n",
       "      <td>29.699118</td>\n",
       "      <td>0.523008</td>\n",
       "      <td>0.381594</td>\n",
       "      <td>32.204208</td>\n",
       "      <td>50.49000</td>\n",
       "    </tr>\n",
       "    <tr>\n",
       "      <th>std</th>\n",
       "      <td>0.486592</td>\n",
       "      <td>0.836071</td>\n",
       "      <td>14.526497</td>\n",
       "      <td>1.102743</td>\n",
       "      <td>0.806057</td>\n",
       "      <td>49.693429</td>\n",
       "      <td>35.39497</td>\n",
       "    </tr>\n",
       "    <tr>\n",
       "      <th>min</th>\n",
       "      <td>0.000000</td>\n",
       "      <td>1.000000</td>\n",
       "      <td>0.420000</td>\n",
       "      <td>0.000000</td>\n",
       "      <td>0.000000</td>\n",
       "      <td>0.000000</td>\n",
       "      <td>2.00000</td>\n",
       "    </tr>\n",
       "    <tr>\n",
       "      <th>25%</th>\n",
       "      <td>0.000000</td>\n",
       "      <td>2.000000</td>\n",
       "      <td>20.125000</td>\n",
       "      <td>0.000000</td>\n",
       "      <td>0.000000</td>\n",
       "      <td>7.910400</td>\n",
       "      <td>22.00000</td>\n",
       "    </tr>\n",
       "    <tr>\n",
       "      <th>50%</th>\n",
       "      <td>0.000000</td>\n",
       "      <td>3.000000</td>\n",
       "      <td>28.000000</td>\n",
       "      <td>0.000000</td>\n",
       "      <td>0.000000</td>\n",
       "      <td>14.454200</td>\n",
       "      <td>43.00000</td>\n",
       "    </tr>\n",
       "    <tr>\n",
       "      <th>75%</th>\n",
       "      <td>1.000000</td>\n",
       "      <td>3.000000</td>\n",
       "      <td>38.000000</td>\n",
       "      <td>1.000000</td>\n",
       "      <td>0.000000</td>\n",
       "      <td>31.000000</td>\n",
       "      <td>77.25000</td>\n",
       "    </tr>\n",
       "    <tr>\n",
       "      <th>max</th>\n",
       "      <td>1.000000</td>\n",
       "      <td>3.000000</td>\n",
       "      <td>80.000000</td>\n",
       "      <td>8.000000</td>\n",
       "      <td>6.000000</td>\n",
       "      <td>512.329200</td>\n",
       "      <td>148.00000</td>\n",
       "    </tr>\n",
       "  </tbody>\n",
       "</table>\n",
       "</div>"
      ],
      "text/plain": [
       "         Survived      Pclass         Age       SibSp       Parch        Fare  \\\n",
       "count  891.000000  891.000000  714.000000  891.000000  891.000000  891.000000   \n",
       "mean     0.383838    2.308642   29.699118    0.523008    0.381594   32.204208   \n",
       "std      0.486592    0.836071   14.526497    1.102743    0.806057   49.693429   \n",
       "min      0.000000    1.000000    0.420000    0.000000    0.000000    0.000000   \n",
       "25%      0.000000    2.000000   20.125000    0.000000    0.000000    7.910400   \n",
       "50%      0.000000    3.000000   28.000000    0.000000    0.000000   14.454200   \n",
       "75%      1.000000    3.000000   38.000000    1.000000    0.000000   31.000000   \n",
       "max      1.000000    3.000000   80.000000    8.000000    6.000000  512.329200   \n",
       "\n",
       "       Cabin_num  \n",
       "count  200.00000  \n",
       "mean    50.49000  \n",
       "std     35.39497  \n",
       "min      2.00000  \n",
       "25%     22.00000  \n",
       "50%     43.00000  \n",
       "75%     77.25000  \n",
       "max    148.00000  "
      ]
     },
     "execution_count": 16,
     "metadata": {},
     "output_type": "execute_result"
    }
   ],
   "source": [
    "data.describe()"
   ]
  },
  {
   "cell_type": "code",
   "execution_count": 17,
   "metadata": {
    "ExecuteTime": {
     "end_time": "2020-03-09T07:31:43.601228Z",
     "start_time": "2020-03-09T07:31:43.589194Z"
    },
    "colab": {
     "base_uri": "https://localhost:8080/",
     "height": 34
    },
    "colab_type": "code",
    "id": "N_5alXFDVXik",
    "outputId": "190c0992-7bd6-4869-c2bd-c498ce35cc39"
   },
   "outputs": [
    {
     "data": {
      "text/plain": [
       "((801, 10), (90, 10))"
      ]
     },
     "execution_count": 17,
     "metadata": {},
     "output_type": "execute_result"
    }
   ],
   "source": [
    "# separate into training and testing set\n",
    "from sklearn.model_selection import train_test_split\n",
    "X_train, X_test, y_train, y_test = train_test_split(\n",
    "    data.drop('Survived', axis=1),  # predictors\n",
    "    data['Survived'],  # target\n",
    "    test_size=0.1,  # percentage of obs in test set\n",
    "    random_state=0)  # seed to ensure reproducibility\n",
    "\n",
    "X_train.shape, X_test.shape"
   ]
  },
  {
   "cell_type": "code",
   "execution_count": 18,
   "metadata": {
    "ExecuteTime": {
     "end_time": "2020-03-09T07:31:45.210365Z",
     "start_time": "2020-03-09T07:31:45.194323Z"
    },
    "colab": {
     "base_uri": "https://localhost:8080/",
     "height": 206
    },
    "colab_type": "code",
    "id": "P5ipQ20jVXim",
    "outputId": "62f3a5b2-2aa9-47f4-8150-d406a7450864"
   },
   "outputs": [
    {
     "data": {
      "text/html": [
       "<div>\n",
       "<style scoped>\n",
       "    .dataframe tbody tr th:only-of-type {\n",
       "        vertical-align: middle;\n",
       "    }\n",
       "\n",
       "    .dataframe tbody tr th {\n",
       "        vertical-align: top;\n",
       "    }\n",
       "\n",
       "    .dataframe thead th {\n",
       "        text-align: right;\n",
       "    }\n",
       "</style>\n",
       "<table border=\"1\" class=\"dataframe\">\n",
       "  <thead>\n",
       "    <tr style=\"text-align: right;\">\n",
       "      <th></th>\n",
       "      <th>Pclass</th>\n",
       "      <th>Sex</th>\n",
       "      <th>Age</th>\n",
       "      <th>SibSp</th>\n",
       "      <th>Parch</th>\n",
       "      <th>Fare</th>\n",
       "      <th>Embarked</th>\n",
       "      <th>Cabin_num</th>\n",
       "      <th>Cabin_cat</th>\n",
       "      <th>Title</th>\n",
       "    </tr>\n",
       "  </thead>\n",
       "  <tbody>\n",
       "    <tr>\n",
       "      <th>815</th>\n",
       "      <td>1</td>\n",
       "      <td>male</td>\n",
       "      <td>NaN</td>\n",
       "      <td>0</td>\n",
       "      <td>0</td>\n",
       "      <td>0.0000</td>\n",
       "      <td>S</td>\n",
       "      <td>102.0</td>\n",
       "      <td>B</td>\n",
       "      <td>Mr.</td>\n",
       "    </tr>\n",
       "    <tr>\n",
       "      <th>877</th>\n",
       "      <td>3</td>\n",
       "      <td>male</td>\n",
       "      <td>19.0</td>\n",
       "      <td>0</td>\n",
       "      <td>0</td>\n",
       "      <td>7.8958</td>\n",
       "      <td>S</td>\n",
       "      <td>NaN</td>\n",
       "      <td>NaN</td>\n",
       "      <td>Mr.</td>\n",
       "    </tr>\n",
       "    <tr>\n",
       "      <th>193</th>\n",
       "      <td>2</td>\n",
       "      <td>male</td>\n",
       "      <td>3.0</td>\n",
       "      <td>1</td>\n",
       "      <td>1</td>\n",
       "      <td>26.0000</td>\n",
       "      <td>S</td>\n",
       "      <td>2.0</td>\n",
       "      <td>F</td>\n",
       "      <td>Master.</td>\n",
       "    </tr>\n",
       "    <tr>\n",
       "      <th>523</th>\n",
       "      <td>1</td>\n",
       "      <td>female</td>\n",
       "      <td>44.0</td>\n",
       "      <td>0</td>\n",
       "      <td>1</td>\n",
       "      <td>57.9792</td>\n",
       "      <td>C</td>\n",
       "      <td>18.0</td>\n",
       "      <td>B</td>\n",
       "      <td>Mrs.</td>\n",
       "    </tr>\n",
       "    <tr>\n",
       "      <th>634</th>\n",
       "      <td>3</td>\n",
       "      <td>female</td>\n",
       "      <td>9.0</td>\n",
       "      <td>3</td>\n",
       "      <td>2</td>\n",
       "      <td>27.9000</td>\n",
       "      <td>S</td>\n",
       "      <td>NaN</td>\n",
       "      <td>NaN</td>\n",
       "      <td>Miss.</td>\n",
       "    </tr>\n",
       "  </tbody>\n",
       "</table>\n",
       "</div>"
      ],
      "text/plain": [
       "     Pclass     Sex   Age  SibSp  Parch     Fare Embarked  Cabin_num  \\\n",
       "815       1    male   NaN      0      0   0.0000        S      102.0   \n",
       "877       3    male  19.0      0      0   7.8958        S        NaN   \n",
       "193       2    male   3.0      1      1  26.0000        S        2.0   \n",
       "523       1  female  44.0      0      1  57.9792        C       18.0   \n",
       "634       3  female   9.0      3      2  27.9000        S        NaN   \n",
       "\n",
       "    Cabin_cat    Title  \n",
       "815         B      Mr.  \n",
       "877       NaN      Mr.  \n",
       "193         F  Master.  \n",
       "523         B     Mrs.  \n",
       "634       NaN    Miss.  "
      ]
     },
     "execution_count": 18,
     "metadata": {},
     "output_type": "execute_result"
    }
   ],
   "source": [
    "X_train.head()"
   ]
  },
  {
   "cell_type": "code",
   "execution_count": 19,
   "metadata": {},
   "outputs": [
    {
     "data": {
      "text/plain": [
       "dtype('int64')"
      ]
     },
     "execution_count": 19,
     "metadata": {},
     "output_type": "execute_result"
    }
   ],
   "source": [
    "y_train.dtypes"
   ]
  },
  {
   "cell_type": "code",
   "execution_count": 19,
   "metadata": {
    "ExecuteTime": {
     "end_time": "2020-03-09T07:31:46.822094Z",
     "start_time": "2020-03-09T07:31:46.814072Z"
    },
    "colab": {
     "base_uri": "https://localhost:8080/",
     "height": 277
    },
    "colab_type": "code",
    "id": "7dBMx_LDVXio",
    "outputId": "91bf46f1-bff5-42c4-e71f-71c6587251c6"
   },
   "outputs": [
    {
     "name": "stdout",
     "output_type": "stream",
     "text": [
      "<class 'pandas.core.frame.DataFrame'>\n",
      "Int64Index: 801 entries, 815 to 684\n",
      "Data columns (total 10 columns):\n",
      "Pclass       801 non-null int64\n",
      "Sex          801 non-null object\n",
      "Age          643 non-null float64\n",
      "SibSp        801 non-null int64\n",
      "Parch        801 non-null int64\n",
      "Fare         801 non-null float64\n",
      "Embarked     799 non-null object\n",
      "Cabin_num    175 non-null float64\n",
      "Cabin_cat    179 non-null object\n",
      "Title        801 non-null object\n",
      "dtypes: float64(3), int64(3), object(4)\n",
      "memory usage: 68.8+ KB\n"
     ]
    }
   ],
   "source": [
    "X_train.info()"
   ]
  },
  {
   "cell_type": "code",
   "execution_count": 22,
   "metadata": {
    "colab": {
     "base_uri": "https://localhost:8080/",
     "height": 557
    },
    "colab_type": "code",
    "id": "42yuET1zWH0g",
    "outputId": "76ec2aac-c6bc-4194-fcb3-010b6c6f478d"
   },
   "outputs": [
    {
     "name": "stdout",
     "output_type": "stream",
     "text": [
      "Requirement already satisfied: feature_engine in c:\\users\\tharu\\anaconda3\\envs\\buan6341_2020\\lib\\site-packages (0.3.1)\n",
      "Requirement already satisfied: numpy>=1.12.1 in c:\\users\\tharu\\anaconda3\\envs\\buan6341_2020\\lib\\site-packages (from feature_engine) (1.17.4)\n",
      "Requirement already satisfied: pandas>=0.23.0 in c:\\users\\tharu\\anaconda3\\envs\\buan6341_2020\\lib\\site-packages (from feature_engine) (0.25.3)\n",
      "Requirement already satisfied: scikit-learn>=0.18.1 in c:\\users\\tharu\\anaconda3\\envs\\buan6341_2020\\lib\\site-packages (from feature_engine) (0.22.1)\n",
      "Requirement already satisfied: statsmodels>=0.8.0 in c:\\users\\tharu\\anaconda3\\envs\\buan6341_2020\\lib\\site-packages (from feature_engine) (0.10.1)\n",
      "Requirement already satisfied: numpydoc>=0.6.0 in c:\\users\\tharu\\anaconda3\\envs\\buan6341_2020\\lib\\site-packages (from feature_engine) (0.9.2)\n",
      "Requirement already satisfied: scipy>=0.19.0 in c:\\users\\tharu\\anaconda3\\envs\\buan6341_2020\\lib\\site-packages (from feature_engine) (1.4.1)\n",
      "Requirement already satisfied: python-dateutil>=2.6.1 in c:\\users\\tharu\\anaconda3\\envs\\buan6341_2020\\lib\\site-packages (from pandas>=0.23.0->feature_engine) (2.8.1)\n",
      "Requirement already satisfied: pytz>=2017.2 in c:\\users\\tharu\\anaconda3\\envs\\buan6341_2020\\lib\\site-packages (from pandas>=0.23.0->feature_engine) (2019.3)\n",
      "Requirement already satisfied: joblib>=0.11 in c:\\users\\tharu\\anaconda3\\envs\\buan6341_2020\\lib\\site-packages (from scikit-learn>=0.18.1->feature_engine) (0.14.1)\n",
      "Requirement already satisfied: patsy>=0.4.0 in c:\\users\\tharu\\anaconda3\\envs\\buan6341_2020\\lib\\site-packages (from statsmodels>=0.8.0->feature_engine) (0.5.1)\n",
      "Requirement already satisfied: Jinja2>=2.3 in c:\\users\\tharu\\anaconda3\\envs\\buan6341_2020\\lib\\site-packages (from numpydoc>=0.6.0->feature_engine) (2.11.1)\n",
      "Requirement already satisfied: sphinx>=1.6.5 in c:\\users\\tharu\\anaconda3\\envs\\buan6341_2020\\lib\\site-packages (from numpydoc>=0.6.0->feature_engine) (2.3.1)\n",
      "Requirement already satisfied: six>=1.5 in c:\\users\\tharu\\anaconda3\\envs\\buan6341_2020\\lib\\site-packages (from python-dateutil>=2.6.1->pandas>=0.23.0->feature_engine) (1.13.0)\n",
      "Requirement already satisfied: MarkupSafe>=0.23 in c:\\users\\tharu\\anaconda3\\envs\\buan6341_2020\\lib\\site-packages (from Jinja2>=2.3->numpydoc>=0.6.0->feature_engine) (1.1.1)\n",
      "Requirement already satisfied: setuptools in c:\\users\\tharu\\anaconda3\\envs\\buan6341_2020\\lib\\site-packages (from sphinx>=1.6.5->numpydoc>=0.6.0->feature_engine) (44.0.0.post20200106)\n",
      "Requirement already satisfied: imagesize in c:\\users\\tharu\\anaconda3\\envs\\buan6341_2020\\lib\\site-packages (from sphinx>=1.6.5->numpydoc>=0.6.0->feature_engine) (1.2.0)\n",
      "Requirement already satisfied: sphinxcontrib-applehelp in c:\\users\\tharu\\anaconda3\\envs\\buan6341_2020\\lib\\site-packages (from sphinx>=1.6.5->numpydoc>=0.6.0->feature_engine) (1.0.1)\n",
      "Requirement already satisfied: packaging in c:\\users\\tharu\\anaconda3\\envs\\buan6341_2020\\lib\\site-packages (from sphinx>=1.6.5->numpydoc>=0.6.0->feature_engine) (20.1)\n",
      "Requirement already satisfied: colorama>=0.3.5; sys_platform == \"win32\" in c:\\users\\tharu\\anaconda3\\envs\\buan6341_2020\\lib\\site-packages (from sphinx>=1.6.5->numpydoc>=0.6.0->feature_engine) (0.4.3)\n",
      "Requirement already satisfied: sphinxcontrib-htmlhelp in c:\\users\\tharu\\anaconda3\\envs\\buan6341_2020\\lib\\site-packages (from sphinx>=1.6.5->numpydoc>=0.6.0->feature_engine) (1.0.2)\n",
      "Requirement already satisfied: sphinxcontrib-serializinghtml in c:\\users\\tharu\\anaconda3\\envs\\buan6341_2020\\lib\\site-packages (from sphinx>=1.6.5->numpydoc>=0.6.0->feature_engine) (1.1.3)\n",
      "Requirement already satisfied: requests>=2.5.0 in c:\\users\\tharu\\anaconda3\\envs\\buan6341_2020\\lib\\site-packages (from sphinx>=1.6.5->numpydoc>=0.6.0->feature_engine) (2.22.0)\n",
      "Requirement already satisfied: snowballstemmer>=1.1 in c:\\users\\tharu\\anaconda3\\envs\\buan6341_2020\\lib\\site-packages (from sphinx>=1.6.5->numpydoc>=0.6.0->feature_engine) (2.0.0)\n",
      "Requirement already satisfied: babel!=2.0,>=1.3 in c:\\users\\tharu\\anaconda3\\envs\\buan6341_2020\\lib\\site-packages (from sphinx>=1.6.5->numpydoc>=0.6.0->feature_engine) (2.8.0)\n",
      "Requirement already satisfied: sphinxcontrib-devhelp in c:\\users\\tharu\\anaconda3\\envs\\buan6341_2020\\lib\\site-packages (from sphinx>=1.6.5->numpydoc>=0.6.0->feature_engine) (1.0.1)\n",
      "Requirement already satisfied: alabaster<0.8,>=0.7 in c:\\users\\tharu\\anaconda3\\envs\\buan6341_2020\\lib\\site-packages (from sphinx>=1.6.5->numpydoc>=0.6.0->feature_engine) (0.7.12)\n",
      "Requirement already satisfied: sphinxcontrib-qthelp in c:\\users\\tharu\\anaconda3\\envs\\buan6341_2020\\lib\\site-packages (from sphinx>=1.6.5->numpydoc>=0.6.0->feature_engine) (1.0.2)\n",
      "Requirement already satisfied: Pygments>=2.0 in c:\\users\\tharu\\anaconda3\\envs\\buan6341_2020\\lib\\site-packages (from sphinx>=1.6.5->numpydoc>=0.6.0->feature_engine) (2.5.2)\n",
      "Requirement already satisfied: docutils>=0.12 in c:\\users\\tharu\\anaconda3\\envs\\buan6341_2020\\lib\\site-packages (from sphinx>=1.6.5->numpydoc>=0.6.0->feature_engine) (0.16)\n",
      "Requirement already satisfied: sphinxcontrib-jsmath in c:\\users\\tharu\\anaconda3\\envs\\buan6341_2020\\lib\\site-packages (from sphinx>=1.6.5->numpydoc>=0.6.0->feature_engine) (1.0.1)\n",
      "Requirement already satisfied: pyparsing>=2.0.2 in c:\\users\\tharu\\anaconda3\\envs\\buan6341_2020\\lib\\site-packages (from packaging->sphinx>=1.6.5->numpydoc>=0.6.0->feature_engine) (2.4.6)\n",
      "Requirement already satisfied: chardet<3.1.0,>=3.0.2 in c:\\users\\tharu\\anaconda3\\envs\\buan6341_2020\\lib\\site-packages (from requests>=2.5.0->sphinx>=1.6.5->numpydoc>=0.6.0->feature_engine) (3.0.4)\n",
      "Requirement already satisfied: idna<2.9,>=2.5 in c:\\users\\tharu\\anaconda3\\envs\\buan6341_2020\\lib\\site-packages (from requests>=2.5.0->sphinx>=1.6.5->numpydoc>=0.6.0->feature_engine) (2.8)\n",
      "Requirement already satisfied: urllib3!=1.25.0,!=1.25.1,<1.26,>=1.21.1 in c:\\users\\tharu\\anaconda3\\envs\\buan6341_2020\\lib\\site-packages (from requests>=2.5.0->sphinx>=1.6.5->numpydoc>=0.6.0->feature_engine) (1.25.8)\n",
      "Requirement already satisfied: certifi>=2017.4.17 in c:\\users\\tharu\\anaconda3\\envs\\buan6341_2020\\lib\\site-packages (from requests>=2.5.0->sphinx>=1.6.5->numpydoc>=0.6.0->feature_engine) (2019.11.28)\n",
      "Note: you may need to restart the kernel to use updated packages.\n"
     ]
    }
   ],
   "source": [
    "pip install feature_engine"
   ]
  },
  {
   "cell_type": "code",
   "execution_count": 20,
   "metadata": {
    "ExecuteTime": {
     "end_time": "2020-03-09T07:31:49.061072Z",
     "start_time": "2020-03-09T07:31:49.056562Z"
    },
    "colab": {},
    "colab_type": "code",
    "id": "804UpG_4VXiq"
   },
   "outputs": [],
   "source": [
    "# from feature-engine\n",
    "from feature_engine import missing_data_imputers as mdi\n",
    "# for one hot encoding with feature-engine\n",
    "from feature_engine.categorical_encoders import OneHotCategoricalEncoder\n",
    "from feature_engine.categorical_encoders import RareLabelCategoricalEncoder\n",
    "from sklearn.linear_model import LogisticRegression\n",
    "from sklearn.pipeline import Pipeline"
   ]
  },
  {
   "cell_type": "code",
   "execution_count": 21,
   "metadata": {
    "ExecuteTime": {
     "end_time": "2020-03-09T07:31:49.933251Z",
     "start_time": "2020-03-09T07:31:49.926236Z"
    },
    "colab": {},
    "colab_type": "code",
    "id": "9dVL9ZNKVXit"
   },
   "outputs": [],
   "source": [
    "titanic_pipe = Pipeline([\n",
    "\n",
    "    # missing data imputation \n",
    "    ('imputer_num_arbit',\n",
    "     mdi.ArbitraryNumberImputer(arbitrary_number=-1,\n",
    "                                variables=['Cabin_num'])),\n",
    "    ('imputer_num_mean',\n",
    "     mdi.MeanMedianImputer(imputation_method='mean',variables=['Age'])),\n",
    "    \n",
    "    ('imputer_cat_freq',\n",
    "     mdi.FrequentCategoryImputer(variables=['Embarked'])),\n",
    "    \n",
    "    ('imputer_cat_missing',\n",
    "     mdi.CategoricalVariableImputer(variables=['Cabin_cat','Title'])),\n",
    "\n",
    "    # categorical encoding \n",
    "    ('encoder_rare_label',\n",
    "     RareLabelCategoricalEncoder(tol=0.01,\n",
    "                                    n_categories=4,\n",
    "                                    variables=['Cabin_cat','Title'])),\n",
    "    ('categorical_encoder',\n",
    "     OneHotCategoricalEncoder( top_categories=None,\n",
    "                               variables=['Sex', 'Embarked','Cabin_cat','Title'], # we can select which variables to encode\n",
    "                               drop_last=True)),\n",
    "\n",
    "])"
   ]
  },
  {
   "cell_type": "code",
   "execution_count": 22,
   "metadata": {
    "ExecuteTime": {
     "end_time": "2020-03-09T07:31:52.228656Z",
     "start_time": "2020-03-09T07:31:52.177198Z"
    },
    "colab": {
     "base_uri": "https://localhost:8080/",
     "height": 346
    },
    "colab_type": "code",
    "id": "2jlYgLT_VXiv",
    "outputId": "483129c2-25df-436a-b6f9-ba4fbe2110da"
   },
   "outputs": [
    {
     "data": {
      "text/plain": [
       "Pipeline(memory=None,\n",
       "         steps=[('imputer_num_arbit',\n",
       "                 ArbitraryNumberImputer(arbitrary_number=-1,\n",
       "                                        variables=['Cabin_num'])),\n",
       "                ('imputer_num_mean',\n",
       "                 MeanMedianImputer(imputation_method='mean',\n",
       "                                   variables=['Age'])),\n",
       "                ('imputer_cat_freq',\n",
       "                 FrequentCategoryImputer(variables=['Embarked'])),\n",
       "                ('imputer_cat_missing',\n",
       "                 CategoricalVariableImputer(variables=['Cabin_cat', 'Title'])),\n",
       "                ('encoder_rare_label',\n",
       "                 RareLabelCategoricalEncoder(n_categories=4, tol=0.01,\n",
       "                                             variables=['Cabin_cat', 'Title'])),\n",
       "                ('categorical_encoder',\n",
       "                 OneHotCategoricalEncoder(drop_last=True, top_categories=None,\n",
       "                                          variables=['Sex', 'Embarked',\n",
       "                                                     'Cabin_cat', 'Title']))],\n",
       "         verbose=False)"
      ]
     },
     "execution_count": 22,
     "metadata": {},
     "output_type": "execute_result"
    }
   ],
   "source": [
    "titanic_pipe.fit(X_train, y_train)"
   ]
  },
  {
   "cell_type": "code",
   "execution_count": 23,
   "metadata": {
    "ExecuteTime": {
     "end_time": "2020-03-09T07:31:54.293463Z",
     "start_time": "2020-03-09T07:31:54.238241Z"
    },
    "colab": {},
    "colab_type": "code",
    "id": "O3M4m3NeVXix"
   },
   "outputs": [],
   "source": [
    "# Apply Transformations\n",
    "X_train=titanic_pipe.transform(X_train)\n",
    "X_test=titanic_pipe.transform(X_test)\n"
   ]
  },
  {
   "cell_type": "code",
   "execution_count": 26,
   "metadata": {},
   "outputs": [],
   "source": [
    "hi=pd.DataFrame(X_train)\n",
    "bi=pd.DataFrame(X_test)"
   ]
  },
  {
   "cell_type": "code",
   "execution_count": 25,
   "metadata": {},
   "outputs": [
    {
     "data": {
      "text/html": [
       "<div>\n",
       "<style scoped>\n",
       "    .dataframe tbody tr th:only-of-type {\n",
       "        vertical-align: middle;\n",
       "    }\n",
       "\n",
       "    .dataframe tbody tr th {\n",
       "        vertical-align: top;\n",
       "    }\n",
       "\n",
       "    .dataframe thead th {\n",
       "        text-align: right;\n",
       "    }\n",
       "</style>\n",
       "<table border=\"1\" class=\"dataframe\">\n",
       "  <thead>\n",
       "    <tr style=\"text-align: right;\">\n",
       "      <th></th>\n",
       "      <th>Pclass</th>\n",
       "      <th>Age</th>\n",
       "      <th>SibSp</th>\n",
       "      <th>Parch</th>\n",
       "      <th>Fare</th>\n",
       "      <th>Cabin_num</th>\n",
       "      <th>Sex_male</th>\n",
       "      <th>Embarked_S</th>\n",
       "      <th>Embarked_C</th>\n",
       "      <th>Cabin_cat_B</th>\n",
       "      <th>Cabin_cat_Missing</th>\n",
       "      <th>Cabin_cat_F</th>\n",
       "      <th>Cabin_cat_D</th>\n",
       "      <th>Cabin_cat_Rare</th>\n",
       "      <th>Cabin_cat_E</th>\n",
       "      <th>Cabin_cat_C</th>\n",
       "      <th>Title_Mr.</th>\n",
       "      <th>Title_Master.</th>\n",
       "      <th>Title_Mrs.</th>\n",
       "      <th>Title_Miss.</th>\n",
       "    </tr>\n",
       "  </thead>\n",
       "  <tbody>\n",
       "    <tr>\n",
       "      <th>815</th>\n",
       "      <td>1</td>\n",
       "      <td>29.858865</td>\n",
       "      <td>0</td>\n",
       "      <td>0</td>\n",
       "      <td>0.0000</td>\n",
       "      <td>102.0</td>\n",
       "      <td>1</td>\n",
       "      <td>1</td>\n",
       "      <td>0</td>\n",
       "      <td>1</td>\n",
       "      <td>0</td>\n",
       "      <td>0</td>\n",
       "      <td>0</td>\n",
       "      <td>0</td>\n",
       "      <td>0</td>\n",
       "      <td>0</td>\n",
       "      <td>1</td>\n",
       "      <td>0</td>\n",
       "      <td>0</td>\n",
       "      <td>0</td>\n",
       "    </tr>\n",
       "    <tr>\n",
       "      <th>877</th>\n",
       "      <td>3</td>\n",
       "      <td>19.000000</td>\n",
       "      <td>0</td>\n",
       "      <td>0</td>\n",
       "      <td>7.8958</td>\n",
       "      <td>-1.0</td>\n",
       "      <td>1</td>\n",
       "      <td>1</td>\n",
       "      <td>0</td>\n",
       "      <td>0</td>\n",
       "      <td>1</td>\n",
       "      <td>0</td>\n",
       "      <td>0</td>\n",
       "      <td>0</td>\n",
       "      <td>0</td>\n",
       "      <td>0</td>\n",
       "      <td>1</td>\n",
       "      <td>0</td>\n",
       "      <td>0</td>\n",
       "      <td>0</td>\n",
       "    </tr>\n",
       "    <tr>\n",
       "      <th>193</th>\n",
       "      <td>2</td>\n",
       "      <td>3.000000</td>\n",
       "      <td>1</td>\n",
       "      <td>1</td>\n",
       "      <td>26.0000</td>\n",
       "      <td>2.0</td>\n",
       "      <td>1</td>\n",
       "      <td>1</td>\n",
       "      <td>0</td>\n",
       "      <td>0</td>\n",
       "      <td>0</td>\n",
       "      <td>1</td>\n",
       "      <td>0</td>\n",
       "      <td>0</td>\n",
       "      <td>0</td>\n",
       "      <td>0</td>\n",
       "      <td>0</td>\n",
       "      <td>1</td>\n",
       "      <td>0</td>\n",
       "      <td>0</td>\n",
       "    </tr>\n",
       "    <tr>\n",
       "      <th>523</th>\n",
       "      <td>1</td>\n",
       "      <td>44.000000</td>\n",
       "      <td>0</td>\n",
       "      <td>1</td>\n",
       "      <td>57.9792</td>\n",
       "      <td>18.0</td>\n",
       "      <td>0</td>\n",
       "      <td>0</td>\n",
       "      <td>1</td>\n",
       "      <td>1</td>\n",
       "      <td>0</td>\n",
       "      <td>0</td>\n",
       "      <td>0</td>\n",
       "      <td>0</td>\n",
       "      <td>0</td>\n",
       "      <td>0</td>\n",
       "      <td>0</td>\n",
       "      <td>0</td>\n",
       "      <td>1</td>\n",
       "      <td>0</td>\n",
       "    </tr>\n",
       "    <tr>\n",
       "      <th>634</th>\n",
       "      <td>3</td>\n",
       "      <td>9.000000</td>\n",
       "      <td>3</td>\n",
       "      <td>2</td>\n",
       "      <td>27.9000</td>\n",
       "      <td>-1.0</td>\n",
       "      <td>0</td>\n",
       "      <td>1</td>\n",
       "      <td>0</td>\n",
       "      <td>0</td>\n",
       "      <td>1</td>\n",
       "      <td>0</td>\n",
       "      <td>0</td>\n",
       "      <td>0</td>\n",
       "      <td>0</td>\n",
       "      <td>0</td>\n",
       "      <td>0</td>\n",
       "      <td>0</td>\n",
       "      <td>0</td>\n",
       "      <td>1</td>\n",
       "    </tr>\n",
       "  </tbody>\n",
       "</table>\n",
       "</div>"
      ],
      "text/plain": [
       "     Pclass        Age  SibSp  Parch     Fare  Cabin_num  Sex_male  \\\n",
       "815       1  29.858865      0      0   0.0000      102.0         1   \n",
       "877       3  19.000000      0      0   7.8958       -1.0         1   \n",
       "193       2   3.000000      1      1  26.0000        2.0         1   \n",
       "523       1  44.000000      0      1  57.9792       18.0         0   \n",
       "634       3   9.000000      3      2  27.9000       -1.0         0   \n",
       "\n",
       "     Embarked_S  Embarked_C  Cabin_cat_B  Cabin_cat_Missing  Cabin_cat_F  \\\n",
       "815           1           0            1                  0            0   \n",
       "877           1           0            0                  1            0   \n",
       "193           1           0            0                  0            1   \n",
       "523           0           1            1                  0            0   \n",
       "634           1           0            0                  1            0   \n",
       "\n",
       "     Cabin_cat_D  Cabin_cat_Rare  Cabin_cat_E  Cabin_cat_C  Title_Mr.  \\\n",
       "815            0               0            0            0          1   \n",
       "877            0               0            0            0          1   \n",
       "193            0               0            0            0          0   \n",
       "523            0               0            0            0          0   \n",
       "634            0               0            0            0          0   \n",
       "\n",
       "     Title_Master.  Title_Mrs.  Title_Miss.  \n",
       "815              0           0            0  \n",
       "877              0           0            0  \n",
       "193              1           0            0  \n",
       "523              0           1            0  \n",
       "634              0           0            1  "
      ]
     },
     "execution_count": 25,
     "metadata": {},
     "output_type": "execute_result"
    }
   ],
   "source": [
    "hi.head()"
   ]
  },
  {
   "cell_type": "code",
   "execution_count": 27,
   "metadata": {},
   "outputs": [
    {
     "data": {
      "text/html": [
       "<div>\n",
       "<style scoped>\n",
       "    .dataframe tbody tr th:only-of-type {\n",
       "        vertical-align: middle;\n",
       "    }\n",
       "\n",
       "    .dataframe tbody tr th {\n",
       "        vertical-align: top;\n",
       "    }\n",
       "\n",
       "    .dataframe thead th {\n",
       "        text-align: right;\n",
       "    }\n",
       "</style>\n",
       "<table border=\"1\" class=\"dataframe\">\n",
       "  <thead>\n",
       "    <tr style=\"text-align: right;\">\n",
       "      <th></th>\n",
       "      <th>Pclass</th>\n",
       "      <th>Age</th>\n",
       "      <th>SibSp</th>\n",
       "      <th>Parch</th>\n",
       "      <th>Fare</th>\n",
       "      <th>Cabin_num</th>\n",
       "      <th>Sex_male</th>\n",
       "      <th>Embarked_S</th>\n",
       "      <th>Embarked_C</th>\n",
       "      <th>Cabin_cat_B</th>\n",
       "      <th>Cabin_cat_Missing</th>\n",
       "      <th>Cabin_cat_F</th>\n",
       "      <th>Cabin_cat_D</th>\n",
       "      <th>Cabin_cat_Rare</th>\n",
       "      <th>Cabin_cat_E</th>\n",
       "      <th>Cabin_cat_C</th>\n",
       "      <th>Title_Mr.</th>\n",
       "      <th>Title_Master.</th>\n",
       "      <th>Title_Mrs.</th>\n",
       "      <th>Title_Miss.</th>\n",
       "    </tr>\n",
       "  </thead>\n",
       "  <tbody>\n",
       "    <tr>\n",
       "      <th>495</th>\n",
       "      <td>3</td>\n",
       "      <td>29.858865</td>\n",
       "      <td>0</td>\n",
       "      <td>0</td>\n",
       "      <td>14.4583</td>\n",
       "      <td>-1.0</td>\n",
       "      <td>1</td>\n",
       "      <td>0</td>\n",
       "      <td>1</td>\n",
       "      <td>0</td>\n",
       "      <td>1</td>\n",
       "      <td>0</td>\n",
       "      <td>0</td>\n",
       "      <td>0</td>\n",
       "      <td>0</td>\n",
       "      <td>0</td>\n",
       "      <td>1</td>\n",
       "      <td>0</td>\n",
       "      <td>0</td>\n",
       "      <td>0</td>\n",
       "    </tr>\n",
       "    <tr>\n",
       "      <th>648</th>\n",
       "      <td>3</td>\n",
       "      <td>29.858865</td>\n",
       "      <td>0</td>\n",
       "      <td>0</td>\n",
       "      <td>7.5500</td>\n",
       "      <td>-1.0</td>\n",
       "      <td>1</td>\n",
       "      <td>1</td>\n",
       "      <td>0</td>\n",
       "      <td>0</td>\n",
       "      <td>1</td>\n",
       "      <td>0</td>\n",
       "      <td>0</td>\n",
       "      <td>0</td>\n",
       "      <td>0</td>\n",
       "      <td>0</td>\n",
       "      <td>1</td>\n",
       "      <td>0</td>\n",
       "      <td>0</td>\n",
       "      <td>0</td>\n",
       "    </tr>\n",
       "    <tr>\n",
       "      <th>278</th>\n",
       "      <td>3</td>\n",
       "      <td>7.000000</td>\n",
       "      <td>4</td>\n",
       "      <td>1</td>\n",
       "      <td>29.1250</td>\n",
       "      <td>-1.0</td>\n",
       "      <td>1</td>\n",
       "      <td>0</td>\n",
       "      <td>0</td>\n",
       "      <td>0</td>\n",
       "      <td>1</td>\n",
       "      <td>0</td>\n",
       "      <td>0</td>\n",
       "      <td>0</td>\n",
       "      <td>0</td>\n",
       "      <td>0</td>\n",
       "      <td>0</td>\n",
       "      <td>1</td>\n",
       "      <td>0</td>\n",
       "      <td>0</td>\n",
       "    </tr>\n",
       "    <tr>\n",
       "      <th>31</th>\n",
       "      <td>1</td>\n",
       "      <td>29.858865</td>\n",
       "      <td>1</td>\n",
       "      <td>0</td>\n",
       "      <td>146.5208</td>\n",
       "      <td>78.0</td>\n",
       "      <td>0</td>\n",
       "      <td>0</td>\n",
       "      <td>1</td>\n",
       "      <td>1</td>\n",
       "      <td>0</td>\n",
       "      <td>0</td>\n",
       "      <td>0</td>\n",
       "      <td>0</td>\n",
       "      <td>0</td>\n",
       "      <td>0</td>\n",
       "      <td>0</td>\n",
       "      <td>0</td>\n",
       "      <td>1</td>\n",
       "      <td>0</td>\n",
       "    </tr>\n",
       "    <tr>\n",
       "      <th>255</th>\n",
       "      <td>3</td>\n",
       "      <td>29.000000</td>\n",
       "      <td>0</td>\n",
       "      <td>2</td>\n",
       "      <td>15.2458</td>\n",
       "      <td>-1.0</td>\n",
       "      <td>0</td>\n",
       "      <td>0</td>\n",
       "      <td>1</td>\n",
       "      <td>0</td>\n",
       "      <td>1</td>\n",
       "      <td>0</td>\n",
       "      <td>0</td>\n",
       "      <td>0</td>\n",
       "      <td>0</td>\n",
       "      <td>0</td>\n",
       "      <td>0</td>\n",
       "      <td>0</td>\n",
       "      <td>1</td>\n",
       "      <td>0</td>\n",
       "    </tr>\n",
       "  </tbody>\n",
       "</table>\n",
       "</div>"
      ],
      "text/plain": [
       "     Pclass        Age  SibSp  Parch      Fare  Cabin_num  Sex_male  \\\n",
       "495       3  29.858865      0      0   14.4583       -1.0         1   \n",
       "648       3  29.858865      0      0    7.5500       -1.0         1   \n",
       "278       3   7.000000      4      1   29.1250       -1.0         1   \n",
       "31        1  29.858865      1      0  146.5208       78.0         0   \n",
       "255       3  29.000000      0      2   15.2458       -1.0         0   \n",
       "\n",
       "     Embarked_S  Embarked_C  Cabin_cat_B  Cabin_cat_Missing  Cabin_cat_F  \\\n",
       "495           0           1            0                  1            0   \n",
       "648           1           0            0                  1            0   \n",
       "278           0           0            0                  1            0   \n",
       "31            0           1            1                  0            0   \n",
       "255           0           1            0                  1            0   \n",
       "\n",
       "     Cabin_cat_D  Cabin_cat_Rare  Cabin_cat_E  Cabin_cat_C  Title_Mr.  \\\n",
       "495            0               0            0            0          1   \n",
       "648            0               0            0            0          1   \n",
       "278            0               0            0            0          0   \n",
       "31             0               0            0            0          0   \n",
       "255            0               0            0            0          0   \n",
       "\n",
       "     Title_Master.  Title_Mrs.  Title_Miss.  \n",
       "495              0           0            0  \n",
       "648              0           0            0  \n",
       "278              1           0            0  \n",
       "31               0           1            0  \n",
       "255              0           1            0  "
      ]
     },
     "execution_count": 27,
     "metadata": {},
     "output_type": "execute_result"
    }
   ],
   "source": [
    "bi.head()"
   ]
  },
  {
   "cell_type": "code",
   "execution_count": 30,
   "metadata": {},
   "outputs": [],
   "source": [
    "hibi=[hi,bi]\n",
    "data1=pd.concat(hibi)"
   ]
  },
  {
   "cell_type": "code",
   "execution_count": 31,
   "metadata": {},
   "outputs": [
    {
     "data": {
      "text/html": [
       "<div>\n",
       "<style scoped>\n",
       "    .dataframe tbody tr th:only-of-type {\n",
       "        vertical-align: middle;\n",
       "    }\n",
       "\n",
       "    .dataframe tbody tr th {\n",
       "        vertical-align: top;\n",
       "    }\n",
       "\n",
       "    .dataframe thead th {\n",
       "        text-align: right;\n",
       "    }\n",
       "</style>\n",
       "<table border=\"1\" class=\"dataframe\">\n",
       "  <thead>\n",
       "    <tr style=\"text-align: right;\">\n",
       "      <th></th>\n",
       "      <th>Pclass</th>\n",
       "      <th>Age</th>\n",
       "      <th>SibSp</th>\n",
       "      <th>Parch</th>\n",
       "      <th>Fare</th>\n",
       "      <th>Cabin_num</th>\n",
       "      <th>Sex_male</th>\n",
       "      <th>Embarked_S</th>\n",
       "      <th>Embarked_C</th>\n",
       "      <th>Cabin_cat_B</th>\n",
       "      <th>Cabin_cat_Missing</th>\n",
       "      <th>Cabin_cat_F</th>\n",
       "      <th>Cabin_cat_D</th>\n",
       "      <th>Cabin_cat_Rare</th>\n",
       "      <th>Cabin_cat_E</th>\n",
       "      <th>Cabin_cat_C</th>\n",
       "      <th>Title_Mr.</th>\n",
       "      <th>Title_Master.</th>\n",
       "      <th>Title_Mrs.</th>\n",
       "      <th>Title_Miss.</th>\n",
       "    </tr>\n",
       "  </thead>\n",
       "  <tbody>\n",
       "    <tr>\n",
       "      <th>815</th>\n",
       "      <td>1</td>\n",
       "      <td>29.858865</td>\n",
       "      <td>0</td>\n",
       "      <td>0</td>\n",
       "      <td>0.0000</td>\n",
       "      <td>102.0</td>\n",
       "      <td>1</td>\n",
       "      <td>1</td>\n",
       "      <td>0</td>\n",
       "      <td>1</td>\n",
       "      <td>0</td>\n",
       "      <td>0</td>\n",
       "      <td>0</td>\n",
       "      <td>0</td>\n",
       "      <td>0</td>\n",
       "      <td>0</td>\n",
       "      <td>1</td>\n",
       "      <td>0</td>\n",
       "      <td>0</td>\n",
       "      <td>0</td>\n",
       "    </tr>\n",
       "    <tr>\n",
       "      <th>877</th>\n",
       "      <td>3</td>\n",
       "      <td>19.000000</td>\n",
       "      <td>0</td>\n",
       "      <td>0</td>\n",
       "      <td>7.8958</td>\n",
       "      <td>-1.0</td>\n",
       "      <td>1</td>\n",
       "      <td>1</td>\n",
       "      <td>0</td>\n",
       "      <td>0</td>\n",
       "      <td>1</td>\n",
       "      <td>0</td>\n",
       "      <td>0</td>\n",
       "      <td>0</td>\n",
       "      <td>0</td>\n",
       "      <td>0</td>\n",
       "      <td>1</td>\n",
       "      <td>0</td>\n",
       "      <td>0</td>\n",
       "      <td>0</td>\n",
       "    </tr>\n",
       "    <tr>\n",
       "      <th>193</th>\n",
       "      <td>2</td>\n",
       "      <td>3.000000</td>\n",
       "      <td>1</td>\n",
       "      <td>1</td>\n",
       "      <td>26.0000</td>\n",
       "      <td>2.0</td>\n",
       "      <td>1</td>\n",
       "      <td>1</td>\n",
       "      <td>0</td>\n",
       "      <td>0</td>\n",
       "      <td>0</td>\n",
       "      <td>1</td>\n",
       "      <td>0</td>\n",
       "      <td>0</td>\n",
       "      <td>0</td>\n",
       "      <td>0</td>\n",
       "      <td>0</td>\n",
       "      <td>1</td>\n",
       "      <td>0</td>\n",
       "      <td>0</td>\n",
       "    </tr>\n",
       "    <tr>\n",
       "      <th>523</th>\n",
       "      <td>1</td>\n",
       "      <td>44.000000</td>\n",
       "      <td>0</td>\n",
       "      <td>1</td>\n",
       "      <td>57.9792</td>\n",
       "      <td>18.0</td>\n",
       "      <td>0</td>\n",
       "      <td>0</td>\n",
       "      <td>1</td>\n",
       "      <td>1</td>\n",
       "      <td>0</td>\n",
       "      <td>0</td>\n",
       "      <td>0</td>\n",
       "      <td>0</td>\n",
       "      <td>0</td>\n",
       "      <td>0</td>\n",
       "      <td>0</td>\n",
       "      <td>0</td>\n",
       "      <td>1</td>\n",
       "      <td>0</td>\n",
       "    </tr>\n",
       "    <tr>\n",
       "      <th>634</th>\n",
       "      <td>3</td>\n",
       "      <td>9.000000</td>\n",
       "      <td>3</td>\n",
       "      <td>2</td>\n",
       "      <td>27.9000</td>\n",
       "      <td>-1.0</td>\n",
       "      <td>0</td>\n",
       "      <td>1</td>\n",
       "      <td>0</td>\n",
       "      <td>0</td>\n",
       "      <td>1</td>\n",
       "      <td>0</td>\n",
       "      <td>0</td>\n",
       "      <td>0</td>\n",
       "      <td>0</td>\n",
       "      <td>0</td>\n",
       "      <td>0</td>\n",
       "      <td>0</td>\n",
       "      <td>0</td>\n",
       "      <td>1</td>\n",
       "    </tr>\n",
       "    <tr>\n",
       "      <th>...</th>\n",
       "      <td>...</td>\n",
       "      <td>...</td>\n",
       "      <td>...</td>\n",
       "      <td>...</td>\n",
       "      <td>...</td>\n",
       "      <td>...</td>\n",
       "      <td>...</td>\n",
       "      <td>...</td>\n",
       "      <td>...</td>\n",
       "      <td>...</td>\n",
       "      <td>...</td>\n",
       "      <td>...</td>\n",
       "      <td>...</td>\n",
       "      <td>...</td>\n",
       "      <td>...</td>\n",
       "      <td>...</td>\n",
       "      <td>...</td>\n",
       "      <td>...</td>\n",
       "      <td>...</td>\n",
       "      <td>...</td>\n",
       "    </tr>\n",
       "    <tr>\n",
       "      <th>627</th>\n",
       "      <td>1</td>\n",
       "      <td>21.000000</td>\n",
       "      <td>0</td>\n",
       "      <td>0</td>\n",
       "      <td>77.9583</td>\n",
       "      <td>9.0</td>\n",
       "      <td>0</td>\n",
       "      <td>1</td>\n",
       "      <td>0</td>\n",
       "      <td>0</td>\n",
       "      <td>0</td>\n",
       "      <td>0</td>\n",
       "      <td>1</td>\n",
       "      <td>0</td>\n",
       "      <td>0</td>\n",
       "      <td>0</td>\n",
       "      <td>0</td>\n",
       "      <td>0</td>\n",
       "      <td>0</td>\n",
       "      <td>1</td>\n",
       "    </tr>\n",
       "    <tr>\n",
       "      <th>380</th>\n",
       "      <td>1</td>\n",
       "      <td>42.000000</td>\n",
       "      <td>0</td>\n",
       "      <td>0</td>\n",
       "      <td>227.5250</td>\n",
       "      <td>-1.0</td>\n",
       "      <td>0</td>\n",
       "      <td>0</td>\n",
       "      <td>1</td>\n",
       "      <td>0</td>\n",
       "      <td>1</td>\n",
       "      <td>0</td>\n",
       "      <td>0</td>\n",
       "      <td>0</td>\n",
       "      <td>0</td>\n",
       "      <td>0</td>\n",
       "      <td>0</td>\n",
       "      <td>0</td>\n",
       "      <td>0</td>\n",
       "      <td>1</td>\n",
       "    </tr>\n",
       "    <tr>\n",
       "      <th>483</th>\n",
       "      <td>3</td>\n",
       "      <td>63.000000</td>\n",
       "      <td>0</td>\n",
       "      <td>0</td>\n",
       "      <td>9.5875</td>\n",
       "      <td>-1.0</td>\n",
       "      <td>0</td>\n",
       "      <td>1</td>\n",
       "      <td>0</td>\n",
       "      <td>0</td>\n",
       "      <td>1</td>\n",
       "      <td>0</td>\n",
       "      <td>0</td>\n",
       "      <td>0</td>\n",
       "      <td>0</td>\n",
       "      <td>0</td>\n",
       "      <td>0</td>\n",
       "      <td>0</td>\n",
       "      <td>1</td>\n",
       "      <td>0</td>\n",
       "    </tr>\n",
       "    <tr>\n",
       "      <th>516</th>\n",
       "      <td>2</td>\n",
       "      <td>34.000000</td>\n",
       "      <td>0</td>\n",
       "      <td>0</td>\n",
       "      <td>10.5000</td>\n",
       "      <td>33.0</td>\n",
       "      <td>0</td>\n",
       "      <td>1</td>\n",
       "      <td>0</td>\n",
       "      <td>0</td>\n",
       "      <td>0</td>\n",
       "      <td>1</td>\n",
       "      <td>0</td>\n",
       "      <td>0</td>\n",
       "      <td>0</td>\n",
       "      <td>0</td>\n",
       "      <td>0</td>\n",
       "      <td>0</td>\n",
       "      <td>1</td>\n",
       "      <td>0</td>\n",
       "    </tr>\n",
       "    <tr>\n",
       "      <th>505</th>\n",
       "      <td>1</td>\n",
       "      <td>18.000000</td>\n",
       "      <td>1</td>\n",
       "      <td>0</td>\n",
       "      <td>108.9000</td>\n",
       "      <td>65.0</td>\n",
       "      <td>1</td>\n",
       "      <td>0</td>\n",
       "      <td>1</td>\n",
       "      <td>0</td>\n",
       "      <td>0</td>\n",
       "      <td>0</td>\n",
       "      <td>0</td>\n",
       "      <td>0</td>\n",
       "      <td>0</td>\n",
       "      <td>1</td>\n",
       "      <td>1</td>\n",
       "      <td>0</td>\n",
       "      <td>0</td>\n",
       "      <td>0</td>\n",
       "    </tr>\n",
       "  </tbody>\n",
       "</table>\n",
       "<p>891 rows × 20 columns</p>\n",
       "</div>"
      ],
      "text/plain": [
       "     Pclass        Age  SibSp  Parch      Fare  Cabin_num  Sex_male  \\\n",
       "815       1  29.858865      0      0    0.0000      102.0         1   \n",
       "877       3  19.000000      0      0    7.8958       -1.0         1   \n",
       "193       2   3.000000      1      1   26.0000        2.0         1   \n",
       "523       1  44.000000      0      1   57.9792       18.0         0   \n",
       "634       3   9.000000      3      2   27.9000       -1.0         0   \n",
       "..      ...        ...    ...    ...       ...        ...       ...   \n",
       "627       1  21.000000      0      0   77.9583        9.0         0   \n",
       "380       1  42.000000      0      0  227.5250       -1.0         0   \n",
       "483       3  63.000000      0      0    9.5875       -1.0         0   \n",
       "516       2  34.000000      0      0   10.5000       33.0         0   \n",
       "505       1  18.000000      1      0  108.9000       65.0         1   \n",
       "\n",
       "     Embarked_S  Embarked_C  Cabin_cat_B  Cabin_cat_Missing  Cabin_cat_F  \\\n",
       "815           1           0            1                  0            0   \n",
       "877           1           0            0                  1            0   \n",
       "193           1           0            0                  0            1   \n",
       "523           0           1            1                  0            0   \n",
       "634           1           0            0                  1            0   \n",
       "..          ...         ...          ...                ...          ...   \n",
       "627           1           0            0                  0            0   \n",
       "380           0           1            0                  1            0   \n",
       "483           1           0            0                  1            0   \n",
       "516           1           0            0                  0            1   \n",
       "505           0           1            0                  0            0   \n",
       "\n",
       "     Cabin_cat_D  Cabin_cat_Rare  Cabin_cat_E  Cabin_cat_C  Title_Mr.  \\\n",
       "815            0               0            0            0          1   \n",
       "877            0               0            0            0          1   \n",
       "193            0               0            0            0          0   \n",
       "523            0               0            0            0          0   \n",
       "634            0               0            0            0          0   \n",
       "..           ...             ...          ...          ...        ...   \n",
       "627            1               0            0            0          0   \n",
       "380            0               0            0            0          0   \n",
       "483            0               0            0            0          0   \n",
       "516            0               0            0            0          0   \n",
       "505            0               0            0            1          1   \n",
       "\n",
       "     Title_Master.  Title_Mrs.  Title_Miss.  \n",
       "815              0           0            0  \n",
       "877              0           0            0  \n",
       "193              1           0            0  \n",
       "523              0           1            0  \n",
       "634              0           0            1  \n",
       "..             ...         ...          ...  \n",
       "627              0           0            1  \n",
       "380              0           0            1  \n",
       "483              0           1            0  \n",
       "516              0           1            0  \n",
       "505              0           0            0  \n",
       "\n",
       "[891 rows x 20 columns]"
      ]
     },
     "execution_count": 31,
     "metadata": {},
     "output_type": "execute_result"
    }
   ],
   "source": [
    "data1"
   ]
  },
  {
   "cell_type": "code",
   "execution_count": 35,
   "metadata": {},
   "outputs": [],
   "source": [
    "nd=data1.to_numpy"
   ]
  },
  {
   "cell_type": "code",
   "execution_count": 43,
   "metadata": {},
   "outputs": [],
   "source": [
    "data1.to_csv('cmon', header=None, index=None, sep=',', mode='a')"
   ]
  },
  {
   "cell_type": "code",
   "execution_count": 44,
   "metadata": {},
   "outputs": [
    {
     "data": {
      "text/plain": [
       "<bound method DataFrame.to_numpy of      Pclass        Age  SibSp  Parch      Fare  Cabin_num  Sex_male  \\\n",
       "815       1  29.858865      0      0    0.0000      102.0         1   \n",
       "877       3  19.000000      0      0    7.8958       -1.0         1   \n",
       "193       2   3.000000      1      1   26.0000        2.0         1   \n",
       "523       1  44.000000      0      1   57.9792       18.0         0   \n",
       "634       3   9.000000      3      2   27.9000       -1.0         0   \n",
       "..      ...        ...    ...    ...       ...        ...       ...   \n",
       "627       1  21.000000      0      0   77.9583        9.0         0   \n",
       "380       1  42.000000      0      0  227.5250       -1.0         0   \n",
       "483       3  63.000000      0      0    9.5875       -1.0         0   \n",
       "516       2  34.000000      0      0   10.5000       33.0         0   \n",
       "505       1  18.000000      1      0  108.9000       65.0         1   \n",
       "\n",
       "     Embarked_S  Embarked_C  Cabin_cat_B  Cabin_cat_Missing  Cabin_cat_F  \\\n",
       "815           1           0            1                  0            0   \n",
       "877           1           0            0                  1            0   \n",
       "193           1           0            0                  0            1   \n",
       "523           0           1            1                  0            0   \n",
       "634           1           0            0                  1            0   \n",
       "..          ...         ...          ...                ...          ...   \n",
       "627           1           0            0                  0            0   \n",
       "380           0           1            0                  1            0   \n",
       "483           1           0            0                  1            0   \n",
       "516           1           0            0                  0            1   \n",
       "505           0           1            0                  0            0   \n",
       "\n",
       "     Cabin_cat_D  Cabin_cat_Rare  Cabin_cat_E  Cabin_cat_C  Title_Mr.  \\\n",
       "815            0               0            0            0          1   \n",
       "877            0               0            0            0          1   \n",
       "193            0               0            0            0          0   \n",
       "523            0               0            0            0          0   \n",
       "634            0               0            0            0          0   \n",
       "..           ...             ...          ...          ...        ...   \n",
       "627            1               0            0            0          0   \n",
       "380            0               0            0            0          0   \n",
       "483            0               0            0            0          0   \n",
       "516            0               0            0            0          0   \n",
       "505            0               0            0            1          1   \n",
       "\n",
       "     Title_Master.  Title_Mrs.  Title_Miss.  \n",
       "815              0           0            0  \n",
       "877              0           0            0  \n",
       "193              1           0            0  \n",
       "523              0           1            0  \n",
       "634              0           0            1  \n",
       "..             ...         ...          ...  \n",
       "627              0           0            1  \n",
       "380              0           0            1  \n",
       "483              0           1            0  \n",
       "516              0           1            0  \n",
       "505              0           0            0  \n",
       "\n",
       "[891 rows x 20 columns]>"
      ]
     },
     "execution_count": 44,
     "metadata": {},
     "output_type": "execute_result"
    }
   ],
   "source": [
    "nd"
   ]
  },
  {
   "cell_type": "code",
   "execution_count": 41,
   "metadata": {},
   "outputs": [],
   "source": [
    "data1.to_excel(\"letsdothis.xlsx\") "
   ]
  },
  {
   "cell_type": "code",
   "execution_count": 27,
   "metadata": {},
   "outputs": [],
   "source": [
    "import warnings\n",
    "warnings.filterwarnings('ignore')"
   ]
  },
  {
   "cell_type": "markdown",
   "metadata": {},
   "source": [
    "# Logistic Regression"
   ]
  },
  {
   "cell_type": "code",
   "execution_count": 28,
   "metadata": {
    "ExecuteTime": {
     "end_time": "2020-03-09T07:31:56.351050Z",
     "start_time": "2020-03-09T07:31:56.106884Z"
    },
    "colab": {
     "base_uri": "https://localhost:8080/",
     "height": 155
    },
    "colab_type": "code",
    "id": "-5H_4K6TVXi0",
    "outputId": "f941c647-58df-4731-aead-e25d26df09fb"
   },
   "outputs": [
    {
     "name": "stdout",
     "output_type": "stream",
     "text": [
      "Accuracy: 0.867\n",
      "Logistic Regression Parameters: {'C': 2.154434690031882}\n",
      "Best Mean Cross Validation score is 0.8215062111801241\n",
      "Best estimator is LogisticRegression(C=2.154434690031882, class_weight=None, dual=False,\n",
      "                   fit_intercept=True, intercept_scaling=1, l1_ratio=None,\n",
      "                   max_iter=100, multi_class='auto', n_jobs=None, penalty='l2',\n",
      "                   random_state=None, solver='lbfgs', tol=0.0001, verbose=0,\n",
      "                   warm_start=False)\n",
      "Logistic Performance:  0.8666666666666667\n"
     ]
    }
   ],
   "source": [
    "from sklearn.linear_model import LogisticRegression \n",
    "from sklearn.model_selection import cross_val_score\n",
    "from sklearn.model_selection import GridSearchCV\n",
    "from sklearn.metrics import accuracy_score\n",
    "c=np.logspace(-3,3,10)\n",
    "param_grid={'C':c}\n",
    "\n",
    "logreg=LogisticRegression()\n",
    "\n",
    "grid_logit = GridSearchCV(logreg, param_grid, cv=5)\n",
    "\n",
    "grid_logit.fit(X_train,y_train)\n",
    "pred = grid_logit.predict(X_test)\n",
    "\n",
    "print(\"Accuracy: {:.3f}\".format(accuracy_score(y_test, pred)))\n",
    "\n",
    "print(\"Logistic Regression Parameters: {}\".format( grid_logit.best_params_)) \n",
    "print(\"Best Mean Cross Validation score is {}\".format(grid_logit.best_score_))\n",
    "print(\"Best estimator is {}\".format(grid_logit.best_estimator_))\n",
    "# Check test data set performance\n",
    "print(\"Logistic Performance: \", grid_logit.score(X_test,y_test))\n"
   ]
  },
  {
   "cell_type": "markdown",
   "metadata": {},
   "source": [
    "# KNeighborsClassifier"
   ]
  },
  {
   "cell_type": "code",
   "execution_count": 29,
   "metadata": {
    "ExecuteTime": {
     "end_time": "2020-03-09T07:32:06.690269Z",
     "start_time": "2020-03-09T07:32:01.476567Z"
    },
    "colab": {
     "base_uri": "https://localhost:8080/",
     "height": 86
    },
    "colab_type": "code",
    "id": "YEFk9JYmVXi2",
    "outputId": "e00ecae1-d0ea-4578-a99d-5c3008289243"
   },
   "outputs": [
    {
     "name": "stdout",
     "output_type": "stream",
     "text": [
      "Accuracy: 0.822\n",
      "Best Mean Cross-validation score: 0.72\n",
      "\n",
      "KNN parameters:  {'n_neighbors': 14}\n",
      "KNN Test Performance:  0.8222222222222222\n"
     ]
    }
   ],
   "source": [
    "from sklearn.model_selection import GridSearchCV\n",
    "from sklearn.neighbors import KNeighborsClassifier\n",
    "\n",
    "knn = KNeighborsClassifier()\n",
    "\n",
    "# define a list of parameters\n",
    "\n",
    "param_knn = {'n_neighbors': range(8,15)}\n",
    "\n",
    "#apply grid search\n",
    "grid_knn = GridSearchCV(knn, param_knn, cv=5, return_train_score=True)\n",
    "grid_knn.fit(X_train, y_train)\n",
    "pred = grid_knn.predict(X_test)\n",
    "\n",
    "print(\"Accuracy: {:.3f}\".format(accuracy_score(y_test, pred)))\n",
    "\n",
    "# Mean Cross Validation Score\n",
    "print(\"Best Mean Cross-validation score: {:.2f}\".format(grid_knn.best_score_))\n",
    "print()\n",
    "\n",
    "#find best parameters\n",
    "print('KNN parameters: ', grid_knn.best_params_)\n",
    "\n",
    "# Check test data set performance\n",
    "print(\"KNN Test Performance: \", grid_knn.score(X_test,y_test))"
   ]
  },
  {
   "cell_type": "markdown",
   "metadata": {},
   "source": [
    "# Decision Tree Classifier"
   ]
  },
  {
   "cell_type": "code",
   "execution_count": 30,
   "metadata": {
    "ExecuteTime": {
     "end_time": "2020-03-09T07:32:10.538012Z",
     "start_time": "2020-03-09T07:32:09.841119Z"
    },
    "colab": {
     "base_uri": "https://localhost:8080/",
     "height": 86
    },
    "colab_type": "code",
    "id": "tw_P6OdkVXi4",
    "outputId": "e46d5859-0e28-4b37-9a90-bd80b2cd8152"
   },
   "outputs": [
    {
     "name": "stdout",
     "output_type": "stream",
     "text": [
      "Accuracy: 0.833\n",
      "Best Mean Cross-validation score: 0.84\n",
      "\n",
      "Decision Tree parameters:  {'criterion': 'gini', 'max_depth': 4, 'min_samples_split': 2, 'splitter': 'random'}\n",
      "Decision Tree Performance:  0.8333333333333334\n",
      "Decision Train Performance:  0.8439450686641697\n"
     ]
    }
   ],
   "source": [
    "from sklearn.model_selection import GridSearchCV\n",
    "\n",
    "from sklearn.tree import DecisionTreeClassifier\n",
    "dtree = DecisionTreeClassifier(random_state=0)\n",
    "\n",
    "#define a list of parameters\n",
    "param_dtree = {'max_depth': range(1,20),'min_samples_split':range(2,10,1),'criterion':['gini','entropy'],'splitter':['random']}\n",
    "\n",
    "#apply grid search\n",
    "grid_dtree = GridSearchCV(dtree, param_dtree, cv=5, return_train_score = True)\n",
    "grid_dtree.fit(X_train, y_train)\n",
    "pred = grid_dtree.predict(X_test)\n",
    "\n",
    "print(\"Accuracy: {:.3f}\".format(accuracy_score(y_test, pred)))\n",
    "\n",
    "# Mean Cross Validation Score\n",
    "print(\"Best Mean Cross-validation score: {:.2f}\".format(grid_dtree.best_score_))\n",
    "print()\n",
    "\n",
    "#find best parameters\n",
    "print('Decision Tree parameters: ', grid_dtree.best_params_)\n",
    "\n",
    "# Check test data set performance\n",
    "print(\"Decision Tree Performance: \", grid_dtree.score(X_test,y_test))\n",
    "print(\"Decision Train Performance: \", grid_dtree.score(X_train,y_train))"
   ]
  },
  {
   "cell_type": "markdown",
   "metadata": {},
   "source": [
    "# SVC using RBF Kernel"
   ]
  },
  {
   "cell_type": "code",
   "execution_count": 31,
   "metadata": {
    "colab": {
     "base_uri": "https://localhost:8080/",
     "height": 86
    },
    "colab_type": "code",
    "id": "NsW2wpRJVXi5",
    "outputId": "103a92bf-e520-4f6e-eea9-411d2e27e68c"
   },
   "outputs": [
    {
     "name": "stdout",
     "output_type": "stream",
     "text": [
      "Accuracy: 0.789\n",
      "train score:  0.8551810237203495\n",
      "test score:  0.7888888888888889\n",
      "Best parameters: {'C': 31.622776601683793, 'gamma': 0.001, 'kernel': 'rbf'}\n",
      "Best cross-validation score: 0.79\n"
     ]
    }
   ],
   "source": [
    "from sklearn.svm import SVC\n",
    "from sklearn.model_selection import GridSearchCV\n",
    "svc=SVC(probability=True)\n",
    "param_grid = [{'kernel': ['rbf'],\n",
    "               'C': np.logspace(-3,3,5),\n",
    "               'gamma': np.logspace(-3,3,5)}]\n",
    "grid_svc_rbf = GridSearchCV(svc, param_grid, cv=3,\n",
    "                          return_train_score=True)\n",
    "grid_svc_rbf.fit(X_train, y_train)\n",
    "pred = grid_svc_rbf.predict(X_test)\n",
    "\n",
    "print(\"Accuracy: {:.3f}\".format(accuracy_score(y_test, pred)))\n",
    "print('train score: ', grid_svc_rbf.score(X_train, y_train))\n",
    "print('test score: ', grid_svc_rbf.score(X_test, y_test))\n",
    "print(\"Best parameters: {}\".format(grid_svc_rbf.best_params_))\n",
    "print(\"Best cross-validation score: {:.2f}\".format(grid_svc_rbf.best_score_))"
   ]
  },
  {
   "cell_type": "markdown",
   "metadata": {},
   "source": [
    "## SVC using Sigmoid Kernel"
   ]
  },
  {
   "cell_type": "code",
   "execution_count": 32,
   "metadata": {
    "colab": {
     "base_uri": "https://localhost:8080/",
     "height": 86
    },
    "colab_type": "code",
    "id": "RAAQFzG-mpnw",
    "outputId": "433ec0fd-ff39-43c4-b608-65ba493da49f"
   },
   "outputs": [
    {
     "name": "stdout",
     "output_type": "stream",
     "text": [
      "Accuracy: 0.578\n",
      "train score:  0.6317103620474407\n",
      "test score:  0.5777777777777777\n",
      "Best parameters: {'C': 0.03162277660168379, 'gamma': 0.001, 'kernel': 'sigmoid'}\n",
      "Best cross-validation score: 0.63\n"
     ]
    }
   ],
   "source": [
    "from sklearn.svm import SVC\n",
    "from sklearn.model_selection import GridSearchCV\n",
    "svc=SVC(probability=True)\n",
    "param_grid = [{'kernel': ['sigmoid'],\n",
    "               'C': np.logspace(-3,3,5),\n",
    "               'gamma': np.logspace(-3,3,5)}]\n",
    "grid_svc_s = GridSearchCV(svc, param_grid, cv=3,\n",
    "                          return_train_score=True)\n",
    "grid_svc_s.fit(X_train, y_train)\n",
    "pred = grid_svc_s.predict(X_test)\n",
    "\n",
    "print(\"Accuracy: {:.3f}\".format(accuracy_score(y_test, pred)))\n",
    "\n",
    "print('train score: ', grid_svc_s.score(X_train, y_train))\n",
    "print('test score: ', grid_svc_s.score(X_test, y_test))\n",
    "print(\"Best parameters: {}\".format(grid_svc_s.best_params_))\n",
    "print(\"Best cross-validation score: {:.2f}\".format(grid_svc_s.best_score_))\n",
    "              "
   ]
  },
  {
   "cell_type": "markdown",
   "metadata": {},
   "source": [
    "## Linear SVC"
   ]
  },
  {
   "cell_type": "code",
   "execution_count": 33,
   "metadata": {
    "colab": {
     "base_uri": "https://localhost:8080/",
     "height": 138
    },
    "colab_type": "code",
    "id": "ycOqmEqeVXi7",
    "outputId": "9cf8ad59-779f-49ea-8a15-b06847cc07da"
   },
   "outputs": [
    {
     "name": "stdout",
     "output_type": "stream",
     "text": [
      "Accuracy: 0.833\n",
      "Best Mean Cross Validation Score is 0.8190139751552795\n",
      "Best Mean Cross Validation Score is {'C': 0.1}\n",
      "Train score is 0.8252184769038702\n",
      "Test score is 0.8333333333333334\n"
     ]
    }
   ],
   "source": [
    "from sklearn.svm import LinearSVC\n",
    "from sklearn.model_selection import GridSearchCV\n",
    "\n",
    "\n",
    "lsvc=SVC(kernel='linear',probability=True)\n",
    "lsvc_param= {'C': [0.1]}\n",
    "lsvc_grid = GridSearchCV(lsvc, lsvc_param,cv=5, return_train_score=True, )\n",
    "lsvc_grid.fit(X_train,y_train)\n",
    "pred = lsvc_grid.predict(X_test)\n",
    "\n",
    "print(\"Accuracy: {:.3f}\".format(accuracy_score(y_test, pred)))\n",
    "\n",
    "print(f'Best Mean Cross Validation Score is {lsvc_grid.best_score_}')\n",
    "print(f'Best Mean Cross Validation Score is {lsvc_grid.best_params_}')\n",
    "print(f'Train score is {lsvc_grid.score(X_train,y_train)}')\n",
    "print(f'Test score is {lsvc_grid.score(X_test,y_test)}')\n",
    "\n"
   ]
  },
  {
   "cell_type": "markdown",
   "metadata": {},
   "source": [
    "## SVC using Poly Kernel"
   ]
  },
  {
   "cell_type": "code",
   "execution_count": 34,
   "metadata": {
    "colab": {},
    "colab_type": "code",
    "id": "Yjkc8CnGVXi9"
   },
   "outputs": [
    {
     "name": "stdout",
     "output_type": "stream",
     "text": [
      "Accuracy: 0.678\n",
      "train score:  0.6754057428214731\n",
      "test score:  0.6777777777777778\n",
      "Best parameters: {'degree': 1, 'kernel': 'poly'}\n",
      "Best cross-validation score: 0.67\n"
     ]
    }
   ],
   "source": [
    "from sklearn.svm import SVC\n",
    "from sklearn.model_selection import GridSearchCV\n",
    "svc=SVC(probability=True)\n",
    "param_grid = [{'kernel': ['poly'],\n",
    "               'degree':[1,2] }]\n",
    "grid_svc_p = GridSearchCV(svc, param_grid, cv=3,\n",
    "                          return_train_score=True)\n",
    "grid_svc_p.fit(X_train, y_train)\n",
    "pred = grid_svc_p.predict(X_test)\n",
    "\n",
    "print(\"Accuracy: {:.3f}\".format(accuracy_score(y_test, pred)))\n",
    "print('train score: ', grid_svc_p.score(X_train, y_train))\n",
    "print('test score: ', grid_svc_p.score(X_test, y_test))\n",
    "print(\"Best parameters: {}\".format(grid_svc_p.best_params_))\n",
    "print(\"Best cross-validation score: {:.2f}\".format(grid_svc_p.best_score_))"
   ]
  },
  {
   "cell_type": "code",
   "execution_count": 74,
   "metadata": {},
   "outputs": [
    {
     "data": {
      "text/plain": [
       "{'mean_fit_time': array([0.06316392, 0.07812413]),\n",
       " 'std_fit_time': array([0.00248786, 0.00490834]),\n",
       " 'mean_score_time': array([0.00665005, 0.00598399]),\n",
       " 'std_score_time': array([0.00094167, 0.0008143 ]),\n",
       " 'param_degree': masked_array(data=[1, 2],\n",
       "              mask=[False, False],\n",
       "        fill_value='?',\n",
       "             dtype=object),\n",
       " 'param_kernel': masked_array(data=['poly', 'poly'],\n",
       "              mask=[False, False],\n",
       "        fill_value='?',\n",
       "             dtype=object),\n",
       " 'params': [{'degree': 1, 'kernel': 'poly'}, {'degree': 2, 'kernel': 'poly'}],\n",
       " 'split0_test_score': array([0.66666667, 0.65917603]),\n",
       " 'split1_test_score': array([0.68164794, 0.65543071]),\n",
       " 'split2_test_score': array([0.6741573 , 0.65168539]),\n",
       " 'mean_test_score': array([0.6741573 , 0.65543071]),\n",
       " 'std_test_score': array([0.00611608, 0.00305804]),\n",
       " 'rank_test_score': array([1, 2]),\n",
       " 'split0_train_score': array([0.66853933, 0.65917603]),\n",
       " 'split1_train_score': array([0.67602996, 0.66479401]),\n",
       " 'split2_train_score': array([0.68913858, 0.67041199]),\n",
       " 'mean_train_score': array([0.67790262, 0.66479401]),\n",
       " 'std_train_score': array([0.00851322, 0.00458706])}"
      ]
     },
     "execution_count": 74,
     "metadata": {},
     "output_type": "execute_result"
    }
   ],
   "source": [
    "grid_svc_p.cv_results_"
   ]
  },
  {
   "cell_type": "markdown",
   "metadata": {},
   "source": [
    "# HW 3"
   ]
  },
  {
   "cell_type": "code",
   "execution_count": null,
   "metadata": {},
   "outputs": [],
   "source": [
    "# Bagging with Decisison Tree"
   ]
  },
  {
   "cell_type": "code",
   "execution_count": 35,
   "metadata": {},
   "outputs": [
    {
     "data": {
      "text/plain": [
       "GridSearchCV(cv=5, error_score=nan,\n",
       "             estimator=BaggingClassifier(base_estimator=DecisionTreeClassifier(ccp_alpha=0.0,\n",
       "                                                                               class_weight=None,\n",
       "                                                                               criterion='gini',\n",
       "                                                                               max_depth=None,\n",
       "                                                                               max_features=None,\n",
       "                                                                               max_leaf_nodes=None,\n",
       "                                                                               min_impurity_decrease=0.0,\n",
       "                                                                               min_impurity_split=None,\n",
       "                                                                               min_samples_leaf=1,\n",
       "                                                                               min_samples_split=2,\n",
       "                                                                               min_weight_fraction_leaf=0.0,\n",
       "                                                                               presort='deprecated',\n",
       "                                                                               random_st...\n",
       "                                         oob_score=True, random_state=0,\n",
       "                                         verbose=0, warm_start=False),\n",
       "             iid='deprecated', n_jobs=None,\n",
       "             param_grid={'base_estimator__criterion': ['gini', 'entropy'],\n",
       "                         'base_estimator__max_depth': range(1, 10),\n",
       "                         'base_estimator__splitter': ['random'],\n",
       "                         'max_samples': [0.8, 1],\n",
       "                         'n_estimators': [10, 25, 100]},\n",
       "             pre_dispatch='2*n_jobs', refit=True, return_train_score=True,\n",
       "             scoring=None, verbose=0)"
      ]
     },
     "execution_count": 35,
     "metadata": {},
     "output_type": "execute_result"
    }
   ],
   "source": [
    "from sklearn.model_selection import GridSearchCV\n",
    "\n",
    "from sklearn.tree import DecisionTreeClassifier\n",
    "from sklearn.ensemble import BaggingClassifier\n",
    "bag_dtree1 = BaggingClassifier(base_estimator=DecisionTreeClassifier(), bootstrap=True, random_state=0, oob_score=True)\n",
    "\n",
    "bag_dtree1_param = {\n",
    "                 'base_estimator__max_depth': range(1,10),\n",
    "                 'base_estimator__criterion':['gini','entropy'],\n",
    "                 'base_estimator__splitter':['random'],\n",
    "                 'max_samples':  [0.8,1],\n",
    "                 'n_estimators': [10,25,100]}\n",
    "bag_dtree1_grid = GridSearchCV(bag_dtree1, bag_dtree1_param,cv=5, return_train_score=True, )\n",
    "bag_dtree1_grid.fit(X_train,y_train)"
   ]
  },
  {
   "cell_type": "code",
   "execution_count": 36,
   "metadata": {},
   "outputs": [
    {
     "name": "stdout",
     "output_type": "stream",
     "text": [
      "Best Mean Cross Validation Score is 0.8351940993788819\n",
      "Best Mean Cross Validation Score is {'base_estimator__criterion': 'gini', 'base_estimator__max_depth': 9, 'base_estimator__splitter': 'random', 'max_samples': 0.8, 'n_estimators': 25}\n",
      "Train score is 0.9176029962546817\n",
      "Test score is 0.8333333333333334\n"
     ]
    }
   ],
   "source": [
    "print(f'Best Mean Cross Validation Score is {bag_dtree1_grid.best_score_}')\n",
    "print(f'Best Mean Cross Validation Score is {bag_dtree1_grid.best_params_}')\n",
    "print(f'Train score is {bag_dtree1_grid.score(X_train,y_train)}')\n",
    "print(f'Test score is {bag_dtree1_grid.score(X_test,y_test)}')"
   ]
  },
  {
   "cell_type": "code",
   "execution_count": null,
   "metadata": {},
   "outputs": [],
   "source": [
    "# Pasting with Decision Tree"
   ]
  },
  {
   "cell_type": "code",
   "execution_count": 37,
   "metadata": {},
   "outputs": [
    {
     "data": {
      "text/plain": [
       "GridSearchCV(cv=5, error_score=nan,\n",
       "             estimator=BaggingClassifier(base_estimator=DecisionTreeClassifier(ccp_alpha=0.0,\n",
       "                                                                               class_weight=None,\n",
       "                                                                               criterion='gini',\n",
       "                                                                               max_depth=None,\n",
       "                                                                               max_features=None,\n",
       "                                                                               max_leaf_nodes=None,\n",
       "                                                                               min_impurity_decrease=0.0,\n",
       "                                                                               min_impurity_split=None,\n",
       "                                                                               min_samples_leaf=1,\n",
       "                                                                               min_samples_split=2,\n",
       "                                                                               min_weight_fraction_leaf=0.0,\n",
       "                                                                               presort='deprecated',\n",
       "                                                                               random_st...\n",
       "                                         oob_score=False, random_state=0,\n",
       "                                         verbose=0, warm_start=False),\n",
       "             iid='deprecated', n_jobs=None,\n",
       "             param_grid={'base_estimator__criterion': ['gini', 'entropy'],\n",
       "                         'base_estimator__max_depth': range(1, 10),\n",
       "                         'base_estimator__splitter': ['random'],\n",
       "                         'max_samples': [0.8, 1],\n",
       "                         'n_estimators': [10, 25, 100]},\n",
       "             pre_dispatch='2*n_jobs', refit=True, return_train_score=True,\n",
       "             scoring=None, verbose=0)"
      ]
     },
     "execution_count": 37,
     "metadata": {},
     "output_type": "execute_result"
    }
   ],
   "source": [
    "paste_dtree1 = BaggingClassifier(base_estimator=DecisionTreeClassifier(), bootstrap=False, random_state=0, oob_score=False)\n",
    "\n",
    "paste_dtree1_param = {\n",
    "                 'base_estimator__max_depth': range(1,10),\n",
    "                 'base_estimator__criterion':['gini','entropy'],\n",
    "                 'base_estimator__splitter':['random'],\n",
    "                 'max_samples':  [0.8,1],\n",
    "                 'n_estimators': [10,25,100]}\n",
    "paste_dtree1_grid = GridSearchCV(paste_dtree1, paste_dtree1_param,cv=5, return_train_score=True, )\n",
    "paste_dtree1_grid.fit(X_train,y_train)"
   ]
  },
  {
   "cell_type": "code",
   "execution_count": 38,
   "metadata": {},
   "outputs": [
    {
     "name": "stdout",
     "output_type": "stream",
     "text": [
      "Best Mean Cross Validation Score is 0.8364751552795031\n",
      "Best Mean Cross Validation Score is {'base_estimator__criterion': 'entropy', 'base_estimator__max_depth': 6, 'base_estimator__splitter': 'random', 'max_samples': 0.8, 'n_estimators': 100}\n",
      "Train score is 0.8739076154806492\n",
      "Test score is 0.8222222222222222\n"
     ]
    }
   ],
   "source": [
    "print(f'Best Mean Cross Validation Score is {paste_dtree1_grid.best_score_}')\n",
    "print(f'Best Mean Cross Validation Score is {paste_dtree1_grid.best_params_}')\n",
    "print(f'Train score is {paste_dtree1_grid.score(X_train,y_train)}')\n",
    "print(f'Test score is {paste_dtree1_grid.score(X_test,y_test)}')"
   ]
  },
  {
   "cell_type": "code",
   "execution_count": null,
   "metadata": {},
   "outputs": [],
   "source": [
    "# Random Forest Classifier"
   ]
  },
  {
   "cell_type": "code",
   "execution_count": 39,
   "metadata": {},
   "outputs": [
    {
     "data": {
      "text/plain": [
       "GridSearchCV(cv=5, error_score=nan,\n",
       "             estimator=RandomForestClassifier(bootstrap=True, ccp_alpha=0.0,\n",
       "                                              class_weight=None,\n",
       "                                              criterion='gini', max_depth=None,\n",
       "                                              max_features='auto',\n",
       "                                              max_leaf_nodes=None,\n",
       "                                              max_samples=None,\n",
       "                                              min_impurity_decrease=0.0,\n",
       "                                              min_impurity_split=None,\n",
       "                                              min_samples_leaf=1,\n",
       "                                              min_samples_split=2,\n",
       "                                              min_weight_fraction_leaf=0.0,\n",
       "                                              n_estimators=100, n_jobs=None,\n",
       "                                              oob_score=False, random_state=42,\n",
       "                                              verbose=0, warm_start=False),\n",
       "             iid='deprecated', n_jobs=None,\n",
       "             param_grid={'criterion': ['gini', 'entropy'],\n",
       "                         'max_depth': [6, 7, 8],\n",
       "                         'max_features': ['auto', 'sqrt', 'log2'],\n",
       "                         'n_estimators': [200, 500]},\n",
       "             pre_dispatch='2*n_jobs', refit=True, return_train_score=True,\n",
       "             scoring=None, verbose=0)"
      ]
     },
     "execution_count": 39,
     "metadata": {},
     "output_type": "execute_result"
    }
   ],
   "source": [
    "from sklearn.ensemble import RandomForestClassifier\n",
    "rfc =RandomForestClassifier(random_state=42)\n",
    "rfc_param = { \n",
    "    'n_estimators': [200, 500],\n",
    "    'max_features': ['auto', 'sqrt', 'log2'],\n",
    "    'max_depth' : [6,7,8],\n",
    "    'criterion' :['gini', 'entropy']\n",
    "}\n",
    "\n",
    "rfc_grid = GridSearchCV(rfc, rfc_param,cv=5, return_train_score=True, )\n",
    "rfc_grid.fit(X_train,y_train)"
   ]
  },
  {
   "cell_type": "code",
   "execution_count": 40,
   "metadata": {},
   "outputs": [
    {
     "name": "stdout",
     "output_type": "stream",
     "text": [
      "Best Mean Cross Validation Score is 0.8402173913043478\n",
      "Best Mean Cross Validation Score is {'criterion': 'entropy', 'max_depth': 7, 'max_features': 'auto', 'n_estimators': 200}\n",
      "Train score is 0.8826466916354557\n",
      "Test score is 0.8222222222222222\n"
     ]
    }
   ],
   "source": [
    "print(f'Best Mean Cross Validation Score is {rfc_grid.best_score_}')\n",
    "print(f'Best Mean Cross Validation Score is {rfc_grid.best_params_}')\n",
    "print(f'Train score is {rfc_grid.score(X_train,y_train)}')\n",
    "print(f'Test score is {rfc_grid.score(X_test,y_test)}')"
   ]
  },
  {
   "cell_type": "code",
   "execution_count": 41,
   "metadata": {},
   "outputs": [],
   "source": [
    "# Extra Tree Classifier"
   ]
  },
  {
   "cell_type": "code",
   "execution_count": 38,
   "metadata": {},
   "outputs": [
    {
     "data": {
      "text/plain": [
       "GridSearchCV(cv=5, error_score=nan,\n",
       "             estimator=ExtraTreesClassifier(bootstrap=False, ccp_alpha=0.0,\n",
       "                                            class_weight=None, criterion='gini',\n",
       "                                            max_depth=None, max_features='auto',\n",
       "                                            max_leaf_nodes=None,\n",
       "                                            max_samples=None,\n",
       "                                            min_impurity_decrease=0.0,\n",
       "                                            min_impurity_split=None,\n",
       "                                            min_samples_leaf=1,\n",
       "                                            min_samples_split=2,\n",
       "                                            min_weight_fraction_leaf=0.0,\n",
       "                                            n_estimators=100, n_jobs=None,\n",
       "                                            oob_score=False, random_state=42,\n",
       "                                            verbose=0, warm_start=False),\n",
       "             iid='deprecated', n_jobs=None,\n",
       "             param_grid={'criterion': ['gini', 'entropy'],\n",
       "                         'max_depth': [6, 7, 8, 9, 10],\n",
       "                         'max_features': ['auto', 'sqrt', 'log2'],\n",
       "                         'n_estimators': [200, 500]},\n",
       "             pre_dispatch='2*n_jobs', refit=True, return_train_score=True,\n",
       "             scoring=None, verbose=0)"
      ]
     },
     "execution_count": 38,
     "metadata": {},
     "output_type": "execute_result"
    }
   ],
   "source": [
    "from  sklearn.ensemble import ExtraTreesClassifier\n",
    "etc= ExtraTreesClassifier(random_state=42)\n",
    "etc_param = { \n",
    "    'n_estimators': [200, 500],\n",
    "    'max_features': ['auto', 'sqrt', 'log2'],\n",
    "    'max_depth' : [6,7,8,9,10],\n",
    "    'criterion' :['gini', 'entropy']\n",
    "}\n",
    "etc_grid = GridSearchCV(etc, etc_param,cv=5, return_train_score=True, )\n",
    "etc_grid.fit(X_train,y_train)"
   ]
  },
  {
   "cell_type": "code",
   "execution_count": 39,
   "metadata": {},
   "outputs": [
    {
     "name": "stdout",
     "output_type": "stream",
     "text": [
      "Best Mean Cross Validation Score is 0.8314829192546584\n",
      "Best Mean Cross Validation Score is {'criterion': 'gini', 'max_depth': 8, 'max_features': 'auto', 'n_estimators': 500}\n",
      "Train score is 0.885143570536829\n",
      "Test score is 0.8333333333333334\n"
     ]
    }
   ],
   "source": [
    "print(f'Best Mean Cross Validation Score is {etc_grid.best_score_}')\n",
    "print(f'Best Mean Cross Validation Score is {etc_grid.best_params_}')\n",
    "print(f'Train score is {etc_grid.score(X_train,y_train)}')\n",
    "print(f'Test score is {etc_grid.score(X_test,y_test)}')"
   ]
  },
  {
   "cell_type": "code",
   "execution_count": null,
   "metadata": {},
   "outputs": [],
   "source": [
    "#  AdaBoostClassifier "
   ]
  },
  {
   "cell_type": "code",
   "execution_count": 44,
   "metadata": {},
   "outputs": [
    {
     "data": {
      "text/plain": [
       "GridSearchCV(cv=5, error_score=nan,\n",
       "             estimator=AdaBoostClassifier(algorithm='SAMME.R',\n",
       "                                          base_estimator=DecisionTreeClassifier(ccp_alpha=0.0,\n",
       "                                                                                class_weight=None,\n",
       "                                                                                criterion='gini',\n",
       "                                                                                max_depth=None,\n",
       "                                                                                max_features=None,\n",
       "                                                                                max_leaf_nodes=None,\n",
       "                                                                                min_impurity_decrease=0.0,\n",
       "                                                                                min_impurity_split=None,\n",
       "                                                                                min_samples_leaf=1,\n",
       "                                                                                min_samples_split=2,\n",
       "                                                                                min_weight_fraction_leaf=0.0,\n",
       "                                                                                presort='...\n",
       "                                          learning_rate=1.0, n_estimators=50,\n",
       "                                          random_state=42),\n",
       "             iid='deprecated', n_jobs=None,\n",
       "             param_grid={'base_estimator__criterion': ['gini', 'entropy'],\n",
       "                         'base_estimator__max_depth': [2, 4, 6],\n",
       "                         'base_estimator__splitter': ['best', 'random'],\n",
       "                         'learning_rate': [0.5, 1.0, 2],\n",
       "                         'n_estimators': [100, 150]},\n",
       "             pre_dispatch='2*n_jobs', refit=True, return_train_score=True,\n",
       "             scoring=None, verbose=0)"
      ]
     },
     "execution_count": 44,
     "metadata": {},
     "output_type": "execute_result"
    }
   ],
   "source": [
    "from sklearn.ensemble import AdaBoostClassifier\n",
    "adc_dtree =AdaBoostClassifier(base_estimator=DecisionTreeClassifier(),random_state=42)\n",
    "adc_dtree_param = {\n",
    "              'base_estimator__criterion' : [\"gini\", \"entropy\"],\n",
    "              'base_estimator__splitter' :   [\"best\", \"random\"],\n",
    "              'base_estimator__max_depth' : [2,4,6],\n",
    "              'n_estimators' : [100,150],\n",
    "              'learning_rate' : [0.5,1.0,2],\n",
    "             }\n",
    "adc_dtree_grid = GridSearchCV(adc_dtree, adc_dtree_param,cv=5, return_train_score=True, )\n",
    "adc_dtree_grid.fit(X_train,y_train)"
   ]
  },
  {
   "cell_type": "code",
   "execution_count": 45,
   "metadata": {},
   "outputs": [
    {
     "name": "stdout",
     "output_type": "stream",
     "text": [
      "Best Mean Cross Validation Score is 0.8189906832298137\n",
      "Best Mean Cross Validation Score is {'base_estimator__criterion': 'entropy', 'base_estimator__max_depth': 2, 'base_estimator__splitter': 'best', 'learning_rate': 0.5, 'n_estimators': 100}\n",
      "Train score is 0.9425717852684145\n",
      "Test score is 0.8222222222222222\n"
     ]
    }
   ],
   "source": [
    "print(f'Best Mean Cross Validation Score is {adc_dtree_grid.best_score_}')\n",
    "print(f'Best Mean Cross Validation Score is {adc_dtree_grid.best_params_}')\n",
    "print(f'Train score is {adc_dtree_grid.score(X_train,y_train)}')\n",
    "print(f'Test score is {adc_dtree_grid.score(X_test,y_test)}')"
   ]
  },
  {
   "cell_type": "code",
   "execution_count": 46,
   "metadata": {},
   "outputs": [],
   "source": [
    "# Gradient Boosting Classifier"
   ]
  },
  {
   "cell_type": "code",
   "execution_count": 47,
   "metadata": {},
   "outputs": [
    {
     "data": {
      "text/plain": [
       "GridSearchCV(cv=5, error_score=nan,\n",
       "             estimator=GradientBoostingClassifier(ccp_alpha=0.0,\n",
       "                                                  criterion='friedman_mse',\n",
       "                                                  init=None, learning_rate=0.1,\n",
       "                                                  loss='deviance', max_depth=3,\n",
       "                                                  max_features=None,\n",
       "                                                  max_leaf_nodes=None,\n",
       "                                                  min_impurity_decrease=0.0,\n",
       "                                                  min_impurity_split=None,\n",
       "                                                  min_samples_leaf=1,\n",
       "                                                  min_samples_split=2,\n",
       "                                                  min_weight_fraction_leaf=0.0,\n",
       "                                                  n_estimators=100,\n",
       "                                                  n_iter_no_change=None,\n",
       "                                                  presort='deprecated',\n",
       "                                                  random_state=42,\n",
       "                                                  subsample=1.0, tol=0.0001,\n",
       "                                                  validation_fraction=0.1,\n",
       "                                                  verbose=0, warm_start=False),\n",
       "             iid='deprecated', n_jobs=None,\n",
       "             param_grid={'learning_rate': [0.5, 1.0, 2], 'max_depth': [2, 3, 4],\n",
       "                         'n_estimators': [100, 150]},\n",
       "             pre_dispatch='2*n_jobs', refit=True, return_train_score=True,\n",
       "             scoring=None, verbose=0)"
      ]
     },
     "execution_count": 47,
     "metadata": {},
     "output_type": "execute_result"
    }
   ],
   "source": [
    "from  sklearn.ensemble import GradientBoostingClassifier\n",
    "gbc= GradientBoostingClassifier(random_state=42)\n",
    "gbc_param = {\n",
    "              'max_depth' : [2,3,4],\n",
    "              'n_estimators' : [100,150],\n",
    "              'learning_rate' : [0.5,1.0,2],\n",
    "             }\n",
    "gbc_grid = GridSearchCV(gbc, gbc_param,cv=5, return_train_score=True, )\n",
    "gbc_grid.fit(X_train,y_train)"
   ]
  },
  {
   "cell_type": "code",
   "execution_count": 48,
   "metadata": {},
   "outputs": [
    {
     "name": "stdout",
     "output_type": "stream",
     "text": [
      "Best Mean Cross Validation Score is 0.8289829192546584\n",
      "Best Mean Cross Validation Score is {'learning_rate': 0.5, 'max_depth': 2, 'n_estimators': 100}\n",
      "Train score is 0.9300873907615481\n",
      "Test score is 0.8222222222222222\n"
     ]
    }
   ],
   "source": [
    "print(f'Best Mean Cross Validation Score is {gbc_grid.best_score_}')\n",
    "print(f'Best Mean Cross Validation Score is {gbc_grid.best_params_}')\n",
    "print(f'Train score is {gbc_grid.score(X_train,y_train)}')\n",
    "print(f'Test score is {gbc_grid.score(X_test,y_test)}')"
   ]
  },
  {
   "cell_type": "code",
   "execution_count": null,
   "metadata": {},
   "outputs": [],
   "source": [
    "# XG BOOST"
   ]
  },
  {
   "cell_type": "code",
   "execution_count": 49,
   "metadata": {},
   "outputs": [
    {
     "name": "stdout",
     "output_type": "stream",
     "text": [
      "Collecting xgboost\n",
      "  Using cached https://files.pythonhosted.org/packages/b1/11/cba4be5a737c6431323b89b5ade818b3bbe1df6e8261c6c70221a767c5d9/xgboost-1.0.2-py3-none-win_amd64.whl\n",
      "Requirement already satisfied: numpy in c:\\users\\tharu\\anaconda3\\envs\\buan6341_2020\\lib\\site-packages (from xgboost) (1.17.4)\n",
      "Requirement already satisfied: scipy in c:\\users\\tharu\\anaconda3\\envs\\buan6341_2020\\lib\\site-packages (from xgboost) (1.4.1)\n",
      "Installing collected packages: xgboost\n",
      "Successfully installed xgboost-1.0.2\n",
      "Note: you may need to restart the kernel to use updated packages.\n"
     ]
    }
   ],
   "source": [
    "pip install xgboost"
   ]
  },
  {
   "cell_type": "code",
   "execution_count": 41,
   "metadata": {},
   "outputs": [
    {
     "data": {
      "text/plain": [
       "GridSearchCV(cv=5, error_score=nan,\n",
       "             estimator=XGBClassifier(base_score=None, booster=None,\n",
       "                                     colsample_bylevel=None,\n",
       "                                     colsample_bynode=None,\n",
       "                                     colsample_bytree=None,\n",
       "                                     early_stopping_rounds=2, gamma=None,\n",
       "                                     gpu_id=None, importance_type='gain',\n",
       "                                     interaction_constraints=None,\n",
       "                                     learning_rate=None, max_delta_step=None,\n",
       "                                     max_depth=None, min_child_weight=None,\n",
       "                                     missing=nan, monotone_...\n",
       "                                     subsample=None, tree_method=None,\n",
       "                                     validate_parameters=False,\n",
       "                                     verbosity=None),\n",
       "             iid='deprecated', n_jobs=None,\n",
       "             param_grid={'learning_rate': [0.09, 0.1, 0.2, 0.5, 0.6, 0.8],\n",
       "                         'max_depth': [2, 4, 6, 8],\n",
       "                         'min_child_weight': [1, 2, 3, 5, 7],\n",
       "                         'n_estimators': [50, 60, 100, 150],\n",
       "                         'subsample': [0.6, 0.7, 0.8, 0.9, 1]},\n",
       "             pre_dispatch='2*n_jobs', refit=True, return_train_score=True,\n",
       "             scoring=None, verbose=0)"
      ]
     },
     "execution_count": 41,
     "metadata": {},
     "output_type": "execute_result"
    }
   ],
   "source": [
    "from  xgboost import XGBClassifier\n",
    "from sklearn.model_selection import GridSearchCV\n",
    "xgbc= XGBClassifier(random_state=42,early_stopping_rounds=2,objective= 'binary:logistic')\n",
    "xgbc_param = {\n",
    "              'max_depth' : [2,4,6,8],\n",
    "              'n_estimators' : [50,60,100,150],\n",
    "              'learning_rate' : [0.09,0.1,0.2,0.5,0.6,0.8],\n",
    "               'min_child_weight' : [1,2,3,5,7],\n",
    "                'subsample':[0.6,0.7,0.8,0.9,1]\n",
    "             }\n",
    "xgbc_grid = GridSearchCV(xgbc, xgbc_param,cv=5, return_train_score=True, )\n",
    "xgbc_grid.fit(X_train,y_train)"
   ]
  },
  {
   "cell_type": "code",
   "execution_count": 42,
   "metadata": {},
   "outputs": [
    {
     "name": "stdout",
     "output_type": "stream",
     "text": [
      "Best Mean Cross Validation Score is 0.8551708074534161\n",
      "Best Mean Cross Validation Score is {'learning_rate': 0.1, 'max_depth': 6, 'min_child_weight': 2, 'n_estimators': 100, 'subsample': 0.9}\n",
      "Train score is 0.9250936329588015\n",
      "Test score is 0.8111111111111111\n"
     ]
    }
   ],
   "source": [
    "print(f'Best Mean Cross Validation Score is {xgbc_grid.best_score_}')\n",
    "print(f'Best Mean Cross Validation Score is {xgbc_grid.best_params_}')\n",
    "print(f'Train score is {xgbc_grid.score(X_train,y_train)}')\n",
    "print(f'Test score is {xgbc_grid.score(X_test,y_test)}')"
   ]
  },
  {
   "cell_type": "code",
   "execution_count": 37,
   "metadata": {},
   "outputs": [],
   "source": [
    "# Summary"
   ]
  },
  {
   "cell_type": "code",
   "execution_count": 76,
   "metadata": {},
   "outputs": [],
   "source": [
    " classifiers={'knn':grid_knn,\n",
    "              'logreg':grid_logit,\n",
    "              'lsvc':lsvc_grid,\n",
    "              'Ssvc':grid_svc_s,\n",
    "              'Rsvc':grid_svc_rbf,\n",
    "              'Psvc':grid_svc_p,\n",
    "             'dtree':grid_dtree,\n",
    "             'bag_dtree1':bag_dtree1_grid,\n",
    "             'paste_dtree1': paste_dtree1_grid,\n",
    "             'rfc': rfc_grid,\n",
    "             'etc': etc_grid,\n",
    "             'adc_dtree':adc_dtree_grid,\n",
    "             'gbc': gbc_grid,\n",
    "             'xgbc': xgbc_grid}"
   ]
  },
  {
   "cell_type": "code",
   "execution_count": 77,
   "metadata": {},
   "outputs": [
    {
     "data": {
      "text/plain": [
       "dict_keys(['knn', 'logreg', 'lsvc', 'Ssvc', 'Rsvc', 'Psvc', 'dtree', 'bag_dtree1', 'paste_dtree1', 'rfc', 'etc', 'adc_dtree', 'gbc', 'xgbc'])"
      ]
     },
     "execution_count": 77,
     "metadata": {},
     "output_type": "execute_result"
    }
   ],
   "source": [
    "classifiers.keys()"
   ]
  },
  {
   "cell_type": "code",
   "execution_count": 78,
   "metadata": {},
   "outputs": [],
   "source": [
    "results_mean_std = []\n",
    "for  key, value in classifiers.items():\n",
    "    mean = value.cv_results_['mean_test_score'][value.best_index_]\n",
    "    std=value.cv_results_['std_test_score'][value.best_index_]\n",
    "     \n",
    "    results_mean_std.append({\n",
    "        \"model\": key,\n",
    "        \"mean\": mean,\n",
    "        \"std\": std\n",
    "    })"
   ]
  },
  {
   "cell_type": "code",
   "execution_count": 79,
   "metadata": {},
   "outputs": [],
   "source": [
    "# Create a Pandas DataFrame with the mean+std results\n",
    "accuracy_df = pd.DataFrame(results_mean_std, columns=['model', 'mean', 'std'])"
   ]
  },
  {
   "cell_type": "code",
   "execution_count": 80,
   "metadata": {},
   "outputs": [
    {
     "data": {
      "text/html": [
       "<div>\n",
       "<style scoped>\n",
       "    .dataframe tbody tr th:only-of-type {\n",
       "        vertical-align: middle;\n",
       "    }\n",
       "\n",
       "    .dataframe tbody tr th {\n",
       "        vertical-align: top;\n",
       "    }\n",
       "\n",
       "    .dataframe thead th {\n",
       "        text-align: right;\n",
       "    }\n",
       "</style>\n",
       "<table border=\"1\" class=\"dataframe\">\n",
       "  <thead>\n",
       "    <tr style=\"text-align: right;\">\n",
       "      <th></th>\n",
       "      <th>model</th>\n",
       "      <th>mean</th>\n",
       "      <th>std</th>\n",
       "    </tr>\n",
       "  </thead>\n",
       "  <tbody>\n",
       "    <tr>\n",
       "      <th>13</th>\n",
       "      <td>xgbc</td>\n",
       "      <td>0.851429</td>\n",
       "      <td>0.022193</td>\n",
       "    </tr>\n",
       "    <tr>\n",
       "      <th>9</th>\n",
       "      <td>rfc</td>\n",
       "      <td>0.840217</td>\n",
       "      <td>0.017764</td>\n",
       "    </tr>\n",
       "    <tr>\n",
       "      <th>6</th>\n",
       "      <td>dtree</td>\n",
       "      <td>0.837748</td>\n",
       "      <td>0.028456</td>\n",
       "    </tr>\n",
       "    <tr>\n",
       "      <th>8</th>\n",
       "      <td>paste_dtree1</td>\n",
       "      <td>0.836475</td>\n",
       "      <td>0.018502</td>\n",
       "    </tr>\n",
       "    <tr>\n",
       "      <th>7</th>\n",
       "      <td>bag_dtree1</td>\n",
       "      <td>0.835194</td>\n",
       "      <td>0.024631</td>\n",
       "    </tr>\n",
       "    <tr>\n",
       "      <th>10</th>\n",
       "      <td>etc</td>\n",
       "      <td>0.831483</td>\n",
       "      <td>0.020331</td>\n",
       "    </tr>\n",
       "    <tr>\n",
       "      <th>12</th>\n",
       "      <td>gbc</td>\n",
       "      <td>0.828983</td>\n",
       "      <td>0.021697</td>\n",
       "    </tr>\n",
       "    <tr>\n",
       "      <th>1</th>\n",
       "      <td>logreg</td>\n",
       "      <td>0.821506</td>\n",
       "      <td>0.021182</td>\n",
       "    </tr>\n",
       "    <tr>\n",
       "      <th>2</th>\n",
       "      <td>lsvc</td>\n",
       "      <td>0.819014</td>\n",
       "      <td>0.026505</td>\n",
       "    </tr>\n",
       "    <tr>\n",
       "      <th>11</th>\n",
       "      <td>adc_dtree</td>\n",
       "      <td>0.818991</td>\n",
       "      <td>0.018804</td>\n",
       "    </tr>\n",
       "    <tr>\n",
       "      <th>4</th>\n",
       "      <td>Rsvc</td>\n",
       "      <td>0.785268</td>\n",
       "      <td>0.017389</td>\n",
       "    </tr>\n",
       "    <tr>\n",
       "      <th>0</th>\n",
       "      <td>knn</td>\n",
       "      <td>0.715365</td>\n",
       "      <td>0.024117</td>\n",
       "    </tr>\n",
       "    <tr>\n",
       "      <th>5</th>\n",
       "      <td>Psvc</td>\n",
       "      <td>0.674157</td>\n",
       "      <td>0.006116</td>\n",
       "    </tr>\n",
       "    <tr>\n",
       "      <th>3</th>\n",
       "      <td>Ssvc</td>\n",
       "      <td>0.630462</td>\n",
       "      <td>0.007696</td>\n",
       "    </tr>\n",
       "  </tbody>\n",
       "</table>\n",
       "</div>"
      ],
      "text/plain": [
       "           model      mean       std\n",
       "13          xgbc  0.851429  0.022193\n",
       "9            rfc  0.840217  0.017764\n",
       "6          dtree  0.837748  0.028456\n",
       "8   paste_dtree1  0.836475  0.018502\n",
       "7     bag_dtree1  0.835194  0.024631\n",
       "10           etc  0.831483  0.020331\n",
       "12           gbc  0.828983  0.021697\n",
       "1         logreg  0.821506  0.021182\n",
       "2           lsvc  0.819014  0.026505\n",
       "11     adc_dtree  0.818991  0.018804\n",
       "4           Rsvc  0.785268  0.017389\n",
       "0            knn  0.715365  0.024117\n",
       "5           Psvc  0.674157  0.006116\n",
       "3           Ssvc  0.630462  0.007696"
      ]
     },
     "execution_count": 80,
     "metadata": {},
     "output_type": "execute_result"
    }
   ],
   "source": [
    "accuracy_df.sort_values(by=['mean'], inplace=True,ascending=False)\n",
    "accuracy_df"
   ]
  },
  {
   "cell_type": "code",
   "execution_count": 81,
   "metadata": {},
   "outputs": [],
   "source": [
    "# Create a prediction of all models on the test set\n",
    "predictions_all = {}\n",
    "for  key, value in classifiers.items():\n",
    "    # Get best estimator\n",
    "    best_model = value.best_estimator_\n",
    "    \n",
    "    # Predict test labels\n",
    "    predictions = best_model.predict(X_test)\n",
    "    \n",
    "    # Save predictions to a list\n",
    "    predictions_all[key] = predictions"
   ]
  },
  {
   "cell_type": "code",
   "execution_count": 82,
   "metadata": {},
   "outputs": [],
   "source": [
    "pred = pd.DataFrame(predictions_all)"
   ]
  },
  {
   "cell_type": "code",
   "execution_count": 83,
   "metadata": {},
   "outputs": [
    {
     "data": {
      "text/plain": [
       "Text(0.5, 1, 'Correlation of the test set label prediction between models')"
      ]
     },
     "execution_count": 83,
     "metadata": {},
     "output_type": "execute_result"
    },
    {
     "data": {
      "image/png": "[encoded data removed]",
      "text/plain": [
       "<Figure size 648x432 with 2 Axes>"
      ]
     },
     "metadata": {
      "needs_background": "light"
     },
     "output_type": "display_data"
    }
   ],
   "source": [
    "fig, ax = plt.subplots(nrows=1, ncols=1, figsize=(9,6))\n",
    "g = sns.heatmap(pred.corr(), annot=True, cmap='coolwarm', ax=ax)\n",
    "g.set_title('Correlation of the test set label prediction between models')"
   ]
  },
  {
   "cell_type": "code",
   "execution_count": 84,
   "metadata": {},
   "outputs": [],
   "source": [
    "def get_redundant_pairs(df):\n",
    "    '''Get diagonal and lower triangular pairs of correlation matrix'''\n",
    "    pairs_to_drop = set()\n",
    "    cols = df.columns\n",
    "    for i in range(0, df.shape[1]):\n",
    "        for j in range(0, i+1):\n",
    "            pairs_to_drop.add((cols[i], cols[j]))\n",
    "    return pairs_to_drop\n",
    "\n",
    "def get_top_abs_correlations(df, n=5):\n",
    "    au_corr = df.corr().abs().unstack()\n",
    "    labels_to_drop = get_redundant_pairs(df)\n",
    "    au_corr = au_corr.drop(labels=labels_to_drop).sort_values(ascending=True)\n",
    "    return au_corr[0:n]"
   ]
  },
  {
   "cell_type": "code",
   "execution_count": 85,
   "metadata": {},
   "outputs": [
    {
     "name": "stdout",
     "output_type": "stream",
     "text": [
      "Top Absolute Correlations\n",
      "knn     Ssvc         0.051414\n",
      "Ssvc    Rsvc         0.087730\n",
      "        dtree        0.089499\n",
      "logreg  Psvc         0.090328\n",
      "Ssvc    adc_dtree    0.094623\n",
      "dtype: float64\n"
     ]
    }
   ],
   "source": [
    "print(\"Top Absolute Correlations\")\n",
    "print(get_top_abs_correlations(pred, 5))"
   ]
  },
  {
   "cell_type": "code",
   "execution_count": 43,
   "metadata": {},
   "outputs": [],
   "source": [
    "from sklearn.ensemble import VotingClassifier"
   ]
  },
  {
   "cell_type": "code",
   "execution_count": 44,
   "metadata": {},
   "outputs": [
    {
     "data": {
      "text/plain": [
       "GridSearchCV(cv=5, error_score=nan,\n",
       "             estimator=VotingClassifier(estimators=[('dtree',\n",
       "                                                     DecisionTreeClassifier(ccp_alpha=0.0,\n",
       "                                                                            class_weight=None,\n",
       "                                                                            criterion='gini',\n",
       "                                                                            max_depth=4,\n",
       "                                                                            max_features=None,\n",
       "                                                                            max_leaf_nodes=None,\n",
       "                                                                            min_impurity_decrease=0.0,\n",
       "                                                                            min_impurity_split=None,\n",
       "                                                                            min_samples_leaf=1,\n",
       "                                                                            min_samples_split=2,\n",
       "                                                                            min_weight_fraction_leaf=0.0,\n",
       "                                                                            presort='deprecated',\n",
       "                                                                            random_...\n",
       "                                                                       bootstrap_features=False,\n",
       "                                                                       max_features=1.0,\n",
       "                                                                       max_samples=0.8,\n",
       "                                                                       n_estimators=100,\n",
       "                                                                       n_jobs=None,\n",
       "                                                                       oob_score=False,\n",
       "                                                                       random_state=0,\n",
       "                                                                       verbose=0,\n",
       "                                                                       warm_start=False))],\n",
       "                                        flatten_transform=True, n_jobs=None,\n",
       "                                        voting='hard', weights=None),\n",
       "             iid='deprecated', n_jobs=None,\n",
       "             param_grid={'voting': ['hard', 'soft']}, pre_dispatch='2*n_jobs',\n",
       "             refit=True, return_train_score=True, scoring=None, verbose=0)"
      ]
     },
     "execution_count": 44,
     "metadata": {},
     "output_type": "execute_result"
    }
   ],
   "source": [
    "vclf1 = VotingClassifier(estimators=\n",
    "                              [('dtree', grid_dtree.best_estimator_), \n",
    "                               ('xgbc', xgbc_grid.best_estimator_), \n",
    "                               ('rfc', rfc_grid.best_estimator_),\n",
    "                               ('paste_dtree1', paste_dtree1_grid.best_estimator_),\n",
    "                               ('bag_dtree1', bag_dtree1_grid.best_estimator_)\n",
    "                              ], )\n",
    "vclf1_param = {\n",
    "              'voting' : ['hard','soft'],\n",
    "             }\n",
    "vclf1_grid = GridSearchCV(vclf1, vclf1_param,cv=5, return_train_score=True, )\n",
    "vclf1_grid.fit(X_train,y_train)\n",
    "pred = vclf1_grid.predict(X_test)"
   ]
  },
  {
   "cell_type": "code",
   "execution_count": 45,
   "metadata": {},
   "outputs": [
    {
     "name": "stdout",
     "output_type": "stream",
     "text": [
      "Best Mean Cross Validation Score is 0.8502096273291926\n",
      "Best Mean Cross Validation Score is {'voting': 'soft'}\n",
      "Train score is 0.8888888888888888\n",
      "Test score is 0.8555555555555555\n"
     ]
    }
   ],
   "source": [
    "print(f'Best Mean Cross Validation Score is {vclf1_grid.best_score_}')\n",
    "print(f'Best Mean Cross Validation Score is {vclf1_grid.best_params_}')\n",
    "print(f'Train score is {vclf1_grid.score(X_train,y_train)}')\n",
    "print(f'Test score is {vclf1_grid.score(X_test,y_test)}')"
   ]
  },
  {
   "cell_type": "code",
   "execution_count": 92,
   "metadata": {},
   "outputs": [
    {
     "data": {
      "text/plain": [
       "GridSearchCV(cv=5, error_score=nan,\n",
       "             estimator=VotingClassifier(estimators=[('knn',\n",
       "                                                     KNeighborsClassifier(algorithm='auto',\n",
       "                                                                          leaf_size=30,\n",
       "                                                                          metric='minkowski',\n",
       "                                                                          metric_params=None,\n",
       "                                                                          n_jobs=None,\n",
       "                                                                          n_neighbors=14,\n",
       "                                                                          p=2,\n",
       "                                                                          weights='uniform')),\n",
       "                                                    ('logreg',\n",
       "                                                     LogisticRegression(C=2.154434690031882,\n",
       "                                                                        class_weight=None,\n",
       "                                                                        dual=False,\n",
       "                                                                        fit_intercept=True,\n",
       "                                                                        intercept_scaling=1,\n",
       "                                                                        l1_ratio=None...\n",
       "                                                                                                              min_weight_fraction_leaf=0.0,\n",
       "                                                                                                              presort='deprecated',\n",
       "                                                                                                              random_state=None,\n",
       "                                                                                                              splitter='best'),\n",
       "                                                                        learning_rate=0.5,\n",
       "                                                                        n_estimators=100,\n",
       "                                                                        random_state=42))],\n",
       "                                        flatten_transform=True, n_jobs=None,\n",
       "                                        voting='hard', weights=None),\n",
       "             iid='deprecated', n_jobs=None,\n",
       "             param_grid={'voting': ['hard', 'soft']}, pre_dispatch='2*n_jobs',\n",
       "             refit=True, return_train_score=True, scoring=None, verbose=0)"
      ]
     },
     "execution_count": 92,
     "metadata": {},
     "output_type": "execute_result"
    }
   ],
   "source": [
    "vclf3 = VotingClassifier(estimators=\n",
    "                              [('knn', grid_knn.best_estimator_), \n",
    "                               ('logreg', grid_logit.best_estimator_), \n",
    "                               ('Ssvc', grid_svc_s.best_estimator_),\n",
    "                               ('adc_dtree', adc_dtree_grid.best_estimator_)\n",
    "                              ], )\n",
    "vclf3_param = {\n",
    "              'voting' : ['hard','soft'],\n",
    "             }\n",
    "vclf3_grid = GridSearchCV(vclf3, vclf3_param,cv=5, return_train_score=True, )\n",
    "vclf3_grid.fit(X_train,y_train)"
   ]
  },
  {
   "cell_type": "code",
   "execution_count": 93,
   "metadata": {},
   "outputs": [
    {
     "name": "stdout",
     "output_type": "stream",
     "text": [
      "Best Mean Cross Validation Score is 0.802748447204969\n",
      "Best Mean Cross Validation Score is {'voting': 'soft'}\n",
      "Train score is 0.8264669163545568\n",
      "Test score is 0.8111111111111111\n"
     ]
    }
   ],
   "source": [
    "print(f'Best Mean Cross Validation Score is {vclf3_grid.best_score_}')\n",
    "print(f'Best Mean Cross Validation Score is {vclf3_grid.best_params_}')\n",
    "print(f'Train score is {vclf3_grid.score(X_train,y_train)}')\n",
    "print(f'Test score is {vclf3_grid.score(X_test,y_test)}')"
   ]
  },
  {
   "cell_type": "code",
   "execution_count": 95,
   "metadata": {},
   "outputs": [
    {
     "data": {
      "text/plain": [
       "GridSearchCV(cv=5, error_score=nan,\n",
       "             estimator=StackingClassifier(cv=None,\n",
       "                                          estimators=[('dtree',\n",
       "                                                       DecisionTreeClassifier(ccp_alpha=0.0,\n",
       "                                                                              class_weight=None,\n",
       "                                                                              criterion='gini',\n",
       "                                                                              max_depth=4,\n",
       "                                                                              max_features=None,\n",
       "                                                                              max_leaf_nodes=None,\n",
       "                                                                              min_impurity_decrease=0.0,\n",
       "                                                                              min_impurity_split=None,\n",
       "                                                                              min_samples_leaf=1,\n",
       "                                                                              min_samples_split=2,\n",
       "                                                                              min_weight_fraction_leaf=0.0,\n",
       "                                                                              presort='deprecate...\n",
       "                                                                             n_jobs=None,\n",
       "                                                                             penalty='l2',\n",
       "                                                                             random_state=None,\n",
       "                                                                             solver='lbfgs',\n",
       "                                                                             tol=0.0001,\n",
       "                                                                             verbose=0,\n",
       "                                                                             warm_start=False),\n",
       "                                          n_jobs=None, passthrough=False,\n",
       "                                          stack_method='auto', verbose=0),\n",
       "             iid='deprecated', n_jobs=None,\n",
       "             param_grid={'final_estimator__C': [0.1, 0.2],\n",
       "                         'stack_method': ['auto', 'predict_proba']},\n",
       "             pre_dispatch='2*n_jobs', refit=True, return_train_score=True,\n",
       "             scoring=None, verbose=0)"
      ]
     },
     "execution_count": 95,
     "metadata": {},
     "output_type": "execute_result"
    }
   ],
   "source": [
    "from sklearn.ensemble import StackingClassifier\n",
    "sclf1 = StackingClassifier(estimators=\n",
    "                               [('dtree', grid_dtree.best_estimator_), \n",
    "                               ('xgbc', xgbc_grid.best_estimator_), \n",
    "                               ('rfc', rfc_grid.best_estimator_),\n",
    "                               ('paste_dtree1', paste_dtree1_grid.best_estimator_),\n",
    "                               ('bag_dtree1', bag_dtree1_grid.best_estimator_)\n",
    "                              ] , final_estimator=LogisticRegression())\n",
    "sclf1_param = {\n",
    "              'final_estimator__C' : [0.01,0.1,0.2],\n",
    "              'stack_method':['auto', 'predict_proba']\n",
    "             }\n",
    "sclf1_grid = GridSearchCV(sclf1, sclf1_param,cv=5, return_train_score=True, )\n",
    "sclf1_grid.fit(X_train,y_train)"
   ]
  },
  {
   "cell_type": "code",
   "execution_count": 96,
   "metadata": {},
   "outputs": [
    {
     "name": "stdout",
     "output_type": "stream",
     "text": [
      "Best Mean Cross Validation Score is 0.8402096273291925\n",
      "Best Mean Cross Validation Score is {'final_estimator__C': 0.1, 'stack_method': 'auto'}\n",
      "Train score is 0.8913857677902621\n",
      "Test score is 0.8555555555555555\n"
     ]
    }
   ],
   "source": [
    "print(f'Best Mean Cross Validation Score is {sclf1_grid.best_score_}')\n",
    "print(f'Best Mean Cross Validation Score is {sclf1_grid.best_params_}')\n",
    "print(f'Train score is {sclf1_grid.score(X_train,y_train)}')\n",
    "print(f'Test score is {sclf1_grid.score(X_test,y_test)}')"
   ]
  },
  {
   "cell_type": "code",
   "execution_count": 97,
   "metadata": {},
   "outputs": [
    {
     "data": {
      "text/plain": [
       "GridSearchCV(cv=5, error_score=nan,\n",
       "             estimator=StackingClassifier(cv=None,\n",
       "                                          estimators=[('knn',\n",
       "                                                       KNeighborsClassifier(algorithm='auto',\n",
       "                                                                            leaf_size=30,\n",
       "                                                                            metric='minkowski',\n",
       "                                                                            metric_params=None,\n",
       "                                                                            n_jobs=None,\n",
       "                                                                            n_neighbors=14,\n",
       "                                                                            p=2,\n",
       "                                                                            weights='uniform')),\n",
       "                                                      ('logreg',\n",
       "                                                       LogisticRegression(C=2.154434690031882,\n",
       "                                                                          class_weight=None,\n",
       "                                                                          dual=False,\n",
       "                                                                          fit_intercept=True,\n",
       "                                                                          intercept_scaling=1,\n",
       "                                                                          l1_...\n",
       "             iid='deprecated', n_jobs=None,\n",
       "             param_grid={'final_estimator__learning_rate': [0.1, 0.6, 0.8],\n",
       "                         'final_estimator__max_depth': [2, 6],\n",
       "                         'final_estimator__min_child_weight': [1, 3, 7],\n",
       "                         'final_estimator__n_estimators': [50, 150],\n",
       "                         'final_estimator__subsample': [0.6, 0.9, 1],\n",
       "                         'stack_method': ['auto', 'predict_proba']},\n",
       "             pre_dispatch='2*n_jobs', refit=True, return_train_score=True,\n",
       "             scoring=None, verbose=0)"
      ]
     },
     "execution_count": 97,
     "metadata": {},
     "output_type": "execute_result"
    }
   ],
   "source": [
    "sclf2 = StackingClassifier(estimators=\n",
    "                                [('knn', grid_knn.best_estimator_), \n",
    "                               ('logreg', grid_logit.best_estimator_), \n",
    "                               ('Ssvc', grid_svc_s.best_estimator_),\n",
    "                               ('adc_dtree', adc_dtree_grid.best_estimator_)\n",
    "                                                          ], \n",
    "                           final_estimator=\n",
    "                           XGBClassifier(random_state=42,early_stopping_rounds=2,objective= 'binary:logistic'))\n",
    "sclf2_param = {\n",
    "              'final_estimator__max_depth' : [2,6],\n",
    "              'final_estimator__n_estimators' : [50,150],\n",
    "              'final_estimator__learning_rate' : [0.1,0.6,0.8],\n",
    "              'final_estimator__min_child_weight' : [1,3,7],\n",
    "              'final_estimator__subsample':[0.6,0.9,1],\n",
    "              'stack_method':['auto', 'predict_proba']\n",
    "             }\n",
    "sclf2_grid = GridSearchCV(sclf2, sclf2_param,cv=5, return_train_score=True, )\n",
    "sclf2_grid.fit(X_train,y_train)"
   ]
  },
  {
   "cell_type": "code",
   "execution_count": 98,
   "metadata": {},
   "outputs": [
    {
     "name": "stdout",
     "output_type": "stream",
     "text": [
      "Best Mean Cross Validation Score is 0.8377406832298137\n",
      "Best Mean Cross Validation Score is {'final_estimator__learning_rate': 0.1, 'final_estimator__max_depth': 2, 'final_estimator__min_child_weight': 3, 'final_estimator__n_estimators': 50, 'final_estimator__subsample': 0.6, 'stack_method': 'auto'}\n",
      "Train score is 0.8813982521847691\n",
      "Test score is 0.8\n"
     ]
    }
   ],
   "source": [
    "print(f'Best Mean Cross Validation Score is {sclf2_grid.best_score_}')\n",
    "print(f'Best Mean Cross Validation Score is {sclf2_grid.best_params_}')\n",
    "print(f'Train score is {sclf2_grid.score(X_train,y_train)}')\n",
    "print(f'Test score is {sclf2_grid.score(X_test,y_test)}')"
   ]
  }
 ],
 "metadata": {
  "colab": {
   "name": "HW2_Classification.ipynb",
   "provenance": []
  },
  "kernelspec": {
   "display_name": "buan6341_2020",
   "language": "python",
   "name": "buan6341_2020"
  },
  "language_info": {
   "codemirror_mode": {
    "name": "ipython",
    "version": 3
   },
   "file_extension": ".py",
   "mimetype": "text/x-python",
   "name": "python",
   "nbconvert_exporter": "python",
   "pygments_lexer": "ipython3",
   "version": "3.7.6"
  },
  "toc": {
   "base_numbering": 1,
   "nav_menu": {},
   "number_sections": true,
   "sideBar": true,
   "skip_h1_title": false,
   "title_cell": "Table of Contents",
   "title_sidebar": "Contents",
   "toc_cell": false,
   "toc_position": {},
   "toc_section_display": true,
   "toc_window_display": false
  },
  "varInspector": {
   "cols": {
    "lenName": 16,
    "lenType": 16,
    "lenVar": 40
   },
   "kernels_config": {
    "python": {
     "delete_cmd_postfix": "",
     "delete_cmd_prefix": "del ",
     "library": "var_list.py",
     "varRefreshCmd": "print(var_dic_list())"
    },
    "r": {
     "delete_cmd_postfix": ") ",
     "delete_cmd_prefix": "rm(",
     "library": "var_list.r",
     "varRefreshCmd": "cat(var_dic_list()) "
    }
   },
   "types_to_exclude": [
    "module",
    "function",
    "builtin_function_or_method",
    "instance",
    "_Feature"
   ],
   "window_display": true
  }
 },
 "nbformat": 4,
 "nbformat_minor": 1
}
